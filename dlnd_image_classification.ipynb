{
 "cells": [
  {
   "cell_type": "markdown",
   "metadata": {
    "collapsed": true
   },
   "source": [
    "# Image Classification\n",
    "In this project, you'll classify images from the [CIFAR-10 dataset](https://www.cs.toronto.edu/~kriz/cifar.html).  The dataset consists of airplanes, dogs, cats, and other objects. You'll preprocess the images, then train a convolutional neural network on all the samples. The images need to be normalized and the labels need to be one-hot encoded.  You'll get to apply what you learned and build a convolutional, max pooling, dropout, and fully connected layers.  At the end, you'll get to see your neural network's predictions on the sample images.\n",
    "## Get the Data\n",
    "Run the following cell to download the [CIFAR-10 dataset for python](https://www.cs.toronto.edu/~kriz/cifar-10-python.tar.gz)."
   ]
  },
  {
   "cell_type": "code",
   "execution_count": 1,
   "metadata": {
    "collapsed": false
   },
   "outputs": [
    {
     "name": "stderr",
     "output_type": "stream",
     "text": [
      "CIFAR-10 Dataset: 171MB [01:27, 1.94MB/s]                              \n"
     ]
    },
    {
     "name": "stdout",
     "output_type": "stream",
     "text": [
      "All files found!\n"
     ]
    }
   ],
   "source": [
    "\"\"\"\n",
    "DON'T MODIFY ANYTHING IN THIS CELL THAT IS BELOW THIS LINE\n",
    "\"\"\"\n",
    "from urllib.request import urlretrieve\n",
    "from os.path import isfile, isdir\n",
    "from tqdm import tqdm\n",
    "import problem_unittests as tests\n",
    "import tarfile\n",
    "\n",
    "cifar10_dataset_folder_path = 'cifar-10-batches-py'\n",
    "\n",
    "class DLProgress(tqdm):\n",
    "    last_block = 0\n",
    "\n",
    "    def hook(self, block_num=1, block_size=1, total_size=None):\n",
    "        self.total = total_size\n",
    "        self.update((block_num - self.last_block) * block_size)\n",
    "        self.last_block = block_num\n",
    "\n",
    "if not isfile('cifar-10-python.tar.gz'):\n",
    "    with DLProgress(unit='B', unit_scale=True, miniters=1, desc='CIFAR-10 Dataset') as pbar:\n",
    "        urlretrieve(\n",
    "            'https://www.cs.toronto.edu/~kriz/cifar-10-python.tar.gz',\n",
    "            'cifar-10-python.tar.gz',\n",
    "            pbar.hook)\n",
    "\n",
    "if not isdir(cifar10_dataset_folder_path):\n",
    "    with tarfile.open('cifar-10-python.tar.gz') as tar:\n",
    "        tar.extractall()\n",
    "        tar.close()\n",
    "\n",
    "\n",
    "tests.test_folder_path(cifar10_dataset_folder_path)"
   ]
  },
  {
   "cell_type": "markdown",
   "metadata": {},
   "source": [
    "## Explore the Data\n",
    "The dataset is broken into batches to prevent your machine from running out of memory.  The CIFAR-10 dataset consists of 5 batches, named `data_batch_1`, `data_batch_2`, etc.. Each batch contains the labels and images that are one of the following:\n",
    "* airplane\n",
    "* automobile\n",
    "* bird\n",
    "* cat\n",
    "* deer\n",
    "* dog\n",
    "* frog\n",
    "* horse\n",
    "* ship\n",
    "* truck\n",
    "\n",
    "Understanding a dataset is part of making predictions on the data.  Play around with the code cell below by changing the `batch_id` and `sample_id`. The `batch_id` is the id for a batch (1-5). The `sample_id` is the id for a image and label pair in the batch.\n",
    "\n",
    "Ask yourself \"What are all possible labels?\", \"What is the range of values for the image data?\", \"Are the labels in order or random?\".  Answers to questions like these will help you preprocess the data and end up with better predictions."
   ]
  },
  {
   "cell_type": "code",
   "execution_count": 5,
   "metadata": {
    "collapsed": false
   },
   "outputs": [
    {
     "name": "stdout",
     "output_type": "stream",
     "text": [
      "\n",
      "Stats of batch 1:\n",
      "Samples: 10000\n",
      "Label Counts: {0: 1005, 1: 974, 2: 1032, 3: 1016, 4: 999, 5: 937, 6: 1030, 7: 1001, 8: 1025, 9: 981}\n",
      "First 20 Labels: [6, 9, 9, 4, 1, 1, 2, 7, 8, 3, 4, 7, 7, 2, 9, 9, 9, 3, 2, 6]\n",
      "\n",
      "Example of Image 5:\n",
      "Image - Min Value: 0 Max Value: 252\n",
      "Image - Shape: (32, 32, 3)\n",
      "Label - Label Id: 1 Name: automobile\n"
     ]
    },
    {
     "data": {
      "image/png": "[encoded data removed]",
      "text/plain": [
       "<matplotlib.figure.Figure at 0x7f6cd17914e0>"
      ]
     },
     "metadata": {
      "image/png": {
       "height": 250,
       "width": 253
      }
     },
     "output_type": "display_data"
    }
   ],
   "source": [
    "%matplotlib inline\n",
    "%config InlineBackend.figure_format = 'retina'\n",
    "\n",
    "import helper\n",
    "import numpy as np\n",
    "\n",
    "# Explore the dataset\n",
    "batch_id = 1\n",
    "sample_id = 5\n",
    "helper.display_stats(cifar10_dataset_folder_path, batch_id, sample_id)\n",
    "\n",
    "# Possible labels: 10\n",
    "# Range of values: 0-255.  Need to normalize\n",
    "# Labels are randomized.  \n",
    "# Input shape: 32x32x3 -> 3 channels.  Need to combine to 1 channel (grayscale)"
   ]
  },
  {
   "cell_type": "markdown",
   "metadata": {},
   "source": [
    "## Implement Preprocess Functions\n",
    "### Normalize\n",
    "In the cell below, implement the `normalize` function to take in image data, `x`, and return it as a normalized Numpy array. The values should be in the range of 0 to 1, inclusive.  The return object should be the same shape as `x`."
   ]
  },
  {
   "cell_type": "code",
   "execution_count": 6,
   "metadata": {
    "collapsed": false
   },
   "outputs": [
    {
     "name": "stdout",
     "output_type": "stream",
     "text": [
      "Tests Passed\n"
     ]
    }
   ],
   "source": [
    "def normalize(x):\n",
    "    \"\"\"\n",
    "    Normalize a list of sample image data in the range of 0 to 1\n",
    "    : x: List of image data.  The image shape is (32, 32, 3)\n",
    "    : return: Numpy array of normalize data\n",
    "    \"\"\"\n",
    "    \n",
    "    return np.array(x/255.0)\n",
    "\n",
    "\n",
    "\"\"\"\n",
    "DON'T MODIFY ANYTHING IN THIS CELL THAT IS BELOW THIS LINE\n",
    "\"\"\"\n",
    "tests.test_normalize(normalize)"
   ]
  },
  {
   "cell_type": "markdown",
   "metadata": {},
   "source": [
    "### One-hot encode\n",
    "Just like the previous code cell, you'll be implementing a function for preprocessing.  This time, you'll implement the `one_hot_encode` function. The input, `x`, are a list of labels.  Implement the function to return the list of labels as One-Hot encoded Numpy array.  The possible values for labels are 0 to 9. The one-hot encoding function should return the same encoding for each value between each call to `one_hot_encode`.  Make sure to save the map of encodings outside the function.\n",
    "\n",
    "Hint: Don't reinvent the wheel."
   ]
  },
  {
   "cell_type": "code",
   "execution_count": 7,
   "metadata": {
    "collapsed": false
   },
   "outputs": [
    {
     "name": "stdout",
     "output_type": "stream",
     "text": [
      "Tests Passed\n"
     ]
    }
   ],
   "source": [
    "\n",
    "\n",
    "def one_hot_encode(x):\n",
    "    \"\"\"\n",
    "    One hot encode a list of sample labels. Return a one-hot encoded vector for each label.\n",
    "    : x: List of sample Labels\n",
    "    : return: Numpy array of one-hot encoded labels\n",
    "    \"\"\"\n",
    "    one_hot = np.zeros((len(x), 10), dtype=np.int8)\n",
    "    for index, label in enumerate(x) :\n",
    "        one_hot[index][label] = 1\n",
    "    return one_hot\n",
    "\n",
    "\n",
    "\"\"\"\n",
    "DON'T MODIFY ANYTHING IN THIS CELL THAT IS BELOW THIS LINE\n",
    "\"\"\"\n",
    "tests.test_one_hot_encode(one_hot_encode)"
   ]
  },
  {
   "cell_type": "markdown",
   "metadata": {},
   "source": [
    "### Randomize Data\n",
    "As you saw from exploring the data above, the order of the samples are randomized.  It doesn't hurt to randomize it again, but you don't need to for this dataset."
   ]
  },
  {
   "cell_type": "markdown",
   "metadata": {},
   "source": [
    "## Preprocess all the data and save it\n",
    "Running the code cell below will preprocess all the CIFAR-10 data and save it to file. The code below also uses 10% of the training data for validation."
   ]
  },
  {
   "cell_type": "code",
   "execution_count": 8,
   "metadata": {
    "collapsed": false
   },
   "outputs": [],
   "source": [
    "\"\"\"\n",
    "DON'T MODIFY ANYTHING IN THIS CELL\n",
    "\"\"\"\n",
    "# Preprocess Training, Validation, and Testing Data\n",
    "helper.preprocess_and_save_data(cifar10_dataset_folder_path, normalize, one_hot_encode)"
   ]
  },
  {
   "cell_type": "markdown",
   "metadata": {},
   "source": [
    "# Check Point\n",
    "This is your first checkpoint.  If you ever decide to come back to this notebook or have to restart the notebook, you can start from here.  The preprocessed data has been saved to disk."
   ]
  },
  {
   "cell_type": "code",
   "execution_count": 9,
   "metadata": {
    "collapsed": true
   },
   "outputs": [],
   "source": [
    "\"\"\"\n",
    "DON'T MODIFY ANYTHING IN THIS CELL\n",
    "\"\"\"\n",
    "import pickle\n",
    "import problem_unittests as tests\n",
    "import helper\n",
    "\n",
    "# Load the Preprocessed Validation data\n",
    "valid_features, valid_labels = pickle.load(open('preprocess_validation.p', mode='rb'))"
   ]
  },
  {
   "cell_type": "markdown",
   "metadata": {},
   "source": [
    "## Build the network\n",
    "For the neural network, you'll build each layer into a function.  Most of the code you've seen has been outside of functions. To test your code more thoroughly, we require that you put each layer in a function.  This allows us to give you better feedback and test for simple mistakes using our unittests before you submit your project.\n",
    "\n",
    ">**Note:** If you're finding it hard to dedicate enough time for this course each week, we've provided a small shortcut to this part of the project. In the next couple of problems, you'll have the option to use classes from the [TensorFlow Layers](https://www.tensorflow.org/api_docs/python/tf/layers) or [TensorFlow Layers (contrib)](https://www.tensorflow.org/api_guides/python/contrib.layers) packages to build each layer, except the layers you build in the \"Convolutional and Max Pooling Layer\" section.  TF Layers is similar to Keras's and TFLearn's abstraction to layers, so it's easy to pickup.\n",
    "\n",
    ">However, if you would like to get the most out of this course, try to solve all the problems _without_ using anything from the TF Layers packages. You **can** still use classes from other packages that happen to have the same name as ones you find in TF Layers! For example, instead of using the TF Layers version of the `conv2d` class, [tf.layers.conv2d](https://www.tensorflow.org/api_docs/python/tf/layers/conv2d), you would want to use the TF Neural Network version of `conv2d`, [tf.nn.conv2d](https://www.tensorflow.org/api_docs/python/tf/nn/conv2d). \n",
    "\n",
    "Let's begin!\n",
    "\n",
    "### Input\n",
    "The neural network needs to read the image data, one-hot encoded labels, and dropout keep probability. Implement the following functions\n",
    "* Implement `neural_net_image_input`\n",
    " * Return a [TF Placeholder](https://www.tensorflow.org/api_docs/python/tf/placeholder)\n",
    " * Set the shape using `image_shape` with batch size set to `None`.\n",
    " * Name the TensorFlow placeholder \"x\" using the TensorFlow `name` parameter in the [TF Placeholder](https://www.tensorflow.org/api_docs/python/tf/placeholder).\n",
    "* Implement `neural_net_label_input`\n",
    " * Return a [TF Placeholder](https://www.tensorflow.org/api_docs/python/tf/placeholder)\n",
    " * Set the shape using `n_classes` with batch size set to `None`.\n",
    " * Name the TensorFlow placeholder \"y\" using the TensorFlow `name` parameter in the [TF Placeholder](https://www.tensorflow.org/api_docs/python/tf/placeholder).\n",
    "* Implement `neural_net_keep_prob_input`\n",
    " * Return a [TF Placeholder](https://www.tensorflow.org/api_docs/python/tf/placeholder) for dropout keep probability.\n",
    " * Name the TensorFlow placeholder \"keep_prob\" using the TensorFlow `name` parameter in the [TF Placeholder](https://www.tensorflow.org/api_docs/python/tf/placeholder).\n",
    "\n",
    "These names will be used at the end of the project to load your saved model.\n",
    "\n",
    "Note: `None` for shapes in TensorFlow allow for a dynamic size."
   ]
  },
  {
   "cell_type": "code",
   "execution_count": 10,
   "metadata": {
    "collapsed": false
   },
   "outputs": [
    {
     "name": "stdout",
     "output_type": "stream",
     "text": [
      "Image Input Tests Passed.\n",
      "Label Input Tests Passed.\n",
      "Keep Prob Tests Passed.\n"
     ]
    }
   ],
   "source": [
    "import tensorflow as tf\n",
    "\n",
    "def neural_net_image_input(image_shape):\n",
    "    \"\"\"\n",
    "    Return a Tensor for a batch of image input\n",
    "    : image_shape: Shape of the images\n",
    "    : return: Tensor for image input.\n",
    "    \"\"\"\n",
    "    return tf.placeholder(tf.float32, shape=(None, image_shape[0], image_shape[1], image_shape[2]), name=\"x\") \n",
    "\n",
    "\n",
    "def neural_net_label_input(n_classes):\n",
    "    \"\"\"\n",
    "    Return a Tensor for a batch of label input\n",
    "    : n_classes: Number of classes\n",
    "    : return: Tensor for label input.\n",
    "    \"\"\"\n",
    "    # TODO: Implement Function\n",
    "    return tf.placeholder(tf.int8, shape=(None, n_classes), name=\"y\")\n",
    "\n",
    "\n",
    "def neural_net_keep_prob_input():\n",
    "    \"\"\"\n",
    "    Return a Tensor for keep probability\n",
    "    : return: Tensor for keep probability.\n",
    "    \"\"\"\n",
    "    # TODO: Implement Function\n",
    "    return tf.placeholder(tf.float32, name=\"keep_prob\")\n",
    "\n",
    "\n",
    "\"\"\"\n",
    "DON'T MODIFY ANYTHING IN THIS CELL THAT IS BELOW THIS LINE\n",
    "\"\"\"\n",
    "tf.reset_default_graph()\n",
    "tests.test_nn_image_inputs(neural_net_image_input)\n",
    "tests.test_nn_label_inputs(neural_net_label_input)\n",
    "tests.test_nn_keep_prob_inputs(neural_net_keep_prob_input)"
   ]
  },
  {
   "cell_type": "markdown",
   "metadata": {},
   "source": [
    "### Convolution and Max Pooling Layer\n",
    "Convolution layers have a lot of success with images. For this code cell, you should implement the function `conv2d_maxpool` to apply convolution then max pooling:\n",
    "* Create the weight and bias using `conv_ksize`, `conv_num_outputs` and the shape of `x_tensor`.\n",
    "* Apply a convolution to `x_tensor` using weight and `conv_strides`.\n",
    " * We recommend you use same padding, but you're welcome to use any padding.\n",
    "* Add bias\n",
    "* Add a nonlinear activation to the convolution.\n",
    "* Apply Max Pooling using `pool_ksize` and `pool_strides`.\n",
    " * We recommend you use same padding, but you're welcome to use any padding.\n",
    "\n",
    "**Note:** You **can't** use [TensorFlow Layers](https://www.tensorflow.org/api_docs/python/tf/layers) or [TensorFlow Layers (contrib)](https://www.tensorflow.org/api_guides/python/contrib.layers) for **this** layer, but you can still use TensorFlow's [Neural Network](https://www.tensorflow.org/api_docs/python/tf/nn) package. You may still use the shortcut option for all the **other** layers."
   ]
  },
  {
   "cell_type": "code",
   "execution_count": 11,
   "metadata": {
    "collapsed": false
   },
   "outputs": [
    {
     "name": "stdout",
     "output_type": "stream",
     "text": [
      "Tests Passed\n"
     ]
    }
   ],
   "source": [
    "def conv2d_maxpool(x_tensor, conv_num_outputs, conv_ksize, conv_strides, pool_ksize, pool_strides):\n",
    "    \"\"\"\n",
    "    Apply convolution then max pooling to x_tensor\n",
    "    :param x_tensor: TensorFlow Tensor\n",
    "    :param conv_num_outputs: Number of outputs for the convolutional layer\n",
    "    :param conv_ksize: kernal size 2-D Tuple for the convolutional layer\n",
    "    :param conv_strides: Stride 2-D Tuple for convolution\n",
    "    :param pool_ksize: kernal size 2-D Tuple for pool\n",
    "    :param pool_strides: Stride 2-D Tuple for pool\n",
    "    : return: A tensor that represents convolution and max pooling of x_tensor\n",
    "    \"\"\"\n",
    "    # Input image shape: [None, 32, 32, 5] -> variable batch, 32x32 image, 5 channels\n",
    "    # kernet / Filter size: (2,2)\n",
    "    # Output depth: conv_num_outputs = 10\n",
    "    shape = x_tensor.get_shape().as_list()\n",
    "    weights = tf.Variable(tf.truncated_normal((conv_ksize[0], conv_ksize[1], shape[3], conv_num_outputs)))\n",
    "    bias = tf.Variable(tf.zeros(conv_num_outputs))\n",
    "    \n",
    "    # Stride of 1 batch, conv_stride, 1 channel\n",
    "    # Here conv_stride: 4x4\n",
    "    stride = [1, conv_strides[0], conv_strides[0], 1]\n",
    "    padding = 'SAME'\n",
    "    \n",
    "    # Build convnet with weights, bias\n",
    "    conv = tf.nn.conv2d(x_tensor, weights, stride, padding)\n",
    "    conv = tf.nn.bias_add(conv, bias)\n",
    "    \n",
    "    # Activation function - ReLU\n",
    "    conv = tf.nn.relu(conv)\n",
    "    \n",
    "    # Add max pooling\n",
    "    pool_shape = [1, pool_ksize[0], pool_ksize[1], 1]\n",
    "    pool_stride = [1, pool_strides[0], pool_strides[1], 1]\n",
    "    conv = tf.nn.max_pool(conv, pool_shape, pool_stride, padding='SAME')\n",
    "    return conv\n",
    "\n",
    "\n",
    "\"\"\"\n",
    "DON'T MODIFY ANYTHING IN THIS CELL THAT IS BELOW THIS LINE\n",
    "\"\"\"\n",
    "tests.test_con_pool(conv2d_maxpool)"
   ]
  },
  {
   "cell_type": "markdown",
   "metadata": {},
   "source": [
    "### Flatten Layer\n",
    "Implement the `flatten` function to change the dimension of `x_tensor` from a 4-D tensor to a 2-D tensor.  The output should be the shape (*Batch Size*, *Flattened Image Size*). Shortcut option: you can use classes from the [TensorFlow Layers](https://www.tensorflow.org/api_docs/python/tf/layers) or [TensorFlow Layers (contrib)](https://www.tensorflow.org/api_guides/python/contrib.layers) packages for this layer. For more of a challenge, only use other TensorFlow packages."
   ]
  },
  {
   "cell_type": "code",
   "execution_count": 12,
   "metadata": {
    "collapsed": false
   },
   "outputs": [
    {
     "name": "stdout",
     "output_type": "stream",
     "text": [
      "Tests Passed\n"
     ]
    }
   ],
   "source": [
    "def flatten(x_tensor):\n",
    "    \"\"\"\n",
    "    Flatten x_tensor to (Batch Size, Flattened Image Size)\n",
    "    : x_tensor: A tensor of size (Batch Size, ...), where ... are the image dimensions.\n",
    "    : return: A tensor of size (Batch Size, Flattened Image Size).\n",
    "    \"\"\"\n",
    "    shape = x_tensor.get_shape().as_list()\n",
    "    flat_size = shape[1]*shape[2]*shape[3]\n",
    "    return tf.reshape(x_tensor, [-1, flat_size])\n",
    "\n",
    "\n",
    "\"\"\"\n",
    "DON'T MODIFY ANYTHING IN THIS CELL THAT IS BELOW THIS LINE\n",
    "\"\"\"\n",
    "tests.test_flatten(flatten)"
   ]
  },
  {
   "cell_type": "markdown",
   "metadata": {},
   "source": [
    "### Fully-Connected Layer\n",
    "Implement the `fully_conn` function to apply a fully connected layer to `x_tensor` with the shape (*Batch Size*, *num_outputs*). Shortcut option: you can use classes from the [TensorFlow Layers](https://www.tensorflow.org/api_docs/python/tf/layers) or [TensorFlow Layers (contrib)](https://www.tensorflow.org/api_guides/python/contrib.layers) packages for this layer. For more of a challenge, only use other TensorFlow packages."
   ]
  },
  {
   "cell_type": "code",
   "execution_count": 156,
   "metadata": {
    "collapsed": false
   },
   "outputs": [
    {
     "name": "stdout",
     "output_type": "stream",
     "text": [
      "Tests Passed\n"
     ]
    }
   ],
   "source": [
    "def fully_conn(x_tensor, num_outputs):\n",
    "    \"\"\"\n",
    "    Apply a fully connected layer to x_tensor using weight and bias\n",
    "    : x_tensor: A 2-D tensor where the first dimension is batch size.\n",
    "    : num_outputs: The number of output that the new tensor should be.\n",
    "    : return: A 2-D tensor where the second dimension is num_outputs.\n",
    "    \"\"\"\n",
    "    #Input nodes: 128\n",
    "    #Hidden layer nodes: 40\n",
    "    weights = tf.Variable(tf.truncated_normal((x_tensor.get_shape().as_list()[1], num_outputs)))\n",
    "    bias = tf.Variable(tf.zeros(num_outputs))\n",
    "    fc = tf.add(tf.matmul(x_tensor, weights), bias)\n",
    "    # For this data set an activation model of 1-1 performs much better.\n",
    "    #fc = tf.nn.relu(fc)\n",
    "    return fc\n",
    "\n",
    "\n",
    "\"\"\"\n",
    "DON'T MODIFY ANYTHING IN THIS CELL THAT IS BELOW THIS LINE\n",
    "\"\"\"\n",
    "tests.test_fully_conn(fully_conn)"
   ]
  },
  {
   "cell_type": "markdown",
   "metadata": {},
   "source": [
    "### Output Layer\n",
    "Implement the `output` function to apply a fully connected layer to `x_tensor` with the shape (*Batch Size*, *num_outputs*). Shortcut option: you can use classes from the [TensorFlow Layers](https://www.tensorflow.org/api_docs/python/tf/layers) or [TensorFlow Layers (contrib)](https://www.tensorflow.org/api_guides/python/contrib.layers) packages for this layer. For more of a challenge, only use other TensorFlow packages.\n",
    "\n",
    "**Note:** Activation, softmax, or cross entropy should **not** be applied to this."
   ]
  },
  {
   "cell_type": "code",
   "execution_count": 157,
   "metadata": {
    "collapsed": false
   },
   "outputs": [
    {
     "name": "stdout",
     "output_type": "stream",
     "text": [
      "Tests Passed\n"
     ]
    }
   ],
   "source": [
    "def output(x_tensor, num_outputs):\n",
    "    \"\"\"\n",
    "    Apply a output layer to x_tensor using weight and bias\n",
    "    : x_tensor: A 2-D tensor where the first dimension is batch size.\n",
    "    : num_outputs: The number of output that the new tensor should be.\n",
    "    : return: A 2-D tensor where the second dimension is num_outputs.\n",
    "    \"\"\"\n",
    "    #How is this different than the fully connected layer function?\n",
    "    #Input nodes: 128\n",
    "    #Output nodes: 40\n",
    "    weights = tf.Variable(tf.truncated_normal((x_tensor.get_shape().as_list()[1], num_outputs)))\n",
    "    bias = tf.Variable(tf.zeros(num_outputs))\n",
    "    output = tf.add(tf.matmul(x_tensor, weights), bias)\n",
    "    return output\n",
    "\n",
    "\n",
    "\"\"\"\n",
    "DON'T MODIFY ANYTHING IN THIS CELL THAT IS BELOW THIS LINE\n",
    "\"\"\"\n",
    "tests.test_output(output)"
   ]
  },
  {
   "cell_type": "markdown",
   "metadata": {},
   "source": [
    "### Create Convolutional Model\n",
    "Implement the function `conv_net` to create a convolutional neural network model. The function takes in a batch of images, `x`, and outputs logits.  Use the layers you created above to create this model:\n",
    "\n",
    "* Apply 1, 2, or 3 Convolution and Max Pool layers\n",
    "* Apply a Flatten Layer\n",
    "* Apply 1, 2, or 3 Fully Connected Layers\n",
    "* Apply an Output Layer\n",
    "* Return the output\n",
    "* Apply [TensorFlow's Dropout](https://www.tensorflow.org/api_docs/python/tf/nn/dropout) to one or more layers in the model using `keep_prob`. "
   ]
  },
  {
   "cell_type": "code",
   "execution_count": null,
   "metadata": {
    "collapsed": false
   },
   "outputs": [],
   "source": [
    "def conv_net(x, keep_prob):\n",
    "    \"\"\"\n",
    "    Create a convolutional neural network model\n",
    "    : x: Placeholder tensor that holds image data.\n",
    "    : keep_prob: Placeholder tensor that hold dropout keep probability.\n",
    "    : return: Tensor that represents logits\n",
    "    \"\"\"\n",
    "    # Function Definition from Above:\n",
    "    #    conv2d_maxpool(x_tensor, conv_num_outputs, conv_ksize, conv_strides, pool_ksize, pool_strides)\n",
    "\n",
    "# Performance with following model, without activation function, keep_prob=0.5\n",
    "    #x_tensor = conv2d_maxpool(x, 420, (2,2), (2,2), (2,2), (2,2))\n",
    "    #x_tensor = flatten(x_tensor)    \n",
    "    #fc = fully_conn(x_tensor, 320)\n",
    "\n",
    "#Epoch  1, CIFAR-10 Batch 1:  Loss:  1019.7345 Validation Accuracy: 0.244400\n",
    "#Epoch  2, CIFAR-10 Batch 1:  Loss:   862.6866 Validation Accuracy: 0.271000\n",
    "#Epoch  3, CIFAR-10 Batch 1:  Loss:   711.1220 Validation Accuracy: 0.288600\n",
    "#Epoch  4, CIFAR-10 Batch 1:  Loss:   697.7986 Validation Accuracy: 0.306000\n",
    "#Epoch  5, CIFAR-10 Batch 1:  Loss:   450.9599 Validation Accuracy: 0.348800\n",
    "#Epoch  6, CIFAR-10 Batch 1:  Loss:   442.3827 Validation Accuracy: 0.352800\n",
    "#Epoch  7, CIFAR-10 Batch 1:  Loss:   390.5513 Validation Accuracy: 0.383200\n",
    "#Epoch  8, CIFAR-10 Batch 1:  Loss:   355.5607 Validation Accuracy: 0.382600\n",
    "#Epoch  9, CIFAR-10 Batch 1:  Loss:   289.0023 Validation Accuracy: 0.406200\n",
    "#Epoch 10, CIFAR-10 Batch 1:  Loss:   256.9842 Validation Accuracy: 0.443600\n",
    "#Epoch 11, CIFAR-10 Batch 1:  Loss:   203.4066 Validation Accuracy: 0.453200\n",
    "#Epoch 12, CIFAR-10 Batch 1:  Loss:   207.0674 Validation Accuracy: 0.449600\n",
    "#Epoch 13, CIFAR-10 Batch 1:  Loss:   171.6137 Validation Accuracy: 0.446600\n",
    "#Epoch 14, CIFAR-10 Batch 1:  Loss:   203.2637 Validation Accuracy: 0.445200\n",
    "#Epoch 15, CIFAR-10 Batch 1:  Loss:   141.1450 Validation Accuracy: 0.472400\n",
    "#Epoch 16, CIFAR-10 Batch 1:  Loss:   146.2916 Validation Accuracy: 0.456200\n",
    "#Epoch 17, CIFAR-10 Batch 1:  Loss:   170.4028 Validation Accuracy: 0.461600\n",
    "#Epoch 18, CIFAR-10 Batch 1:  Loss:    84.1584 Validation Accuracy: 0.464000\n",
    "#Epoch 19, CIFAR-10 Batch 1:  Loss:    79.4057 Validation Accuracy: 0.477400\n",
    "#Epoch 20, CIFAR-10 Batch 1:  Loss:    81.3980 Validation Accuracy: 0.469400\n",
    "#Epoch 21, CIFAR-10 Batch 1:  Loss:    73.6014 Validation Accuracy: 0.490000\n",
    "#Epoch 22, CIFAR-10 Batch 1:  Loss:    73.6367 Validation Accuracy: 0.495200\n",
    "#Epoch 23, CIFAR-10 Batch 1:  Loss:    97.8252 Validation Accuracy: 0.491200\n",
    "#Epoch 24, CIFAR-10 Batch 1:  Loss:    63.5984 Validation Accuracy: 0.503400\n",
    "#Epoch 25, CIFAR-10 Batch 1:  Loss:    70.6573 Validation Accuracy: 0.487800\n",
    "#Epoch 26, CIFAR-10 Batch 1:  Loss:    76.6999 Validation Accuracy: 0.508800\n",
    "#Epoch 27, CIFAR-10 Batch 1:  Loss:    76.1213 Validation Accuracy: 0.515200\n",
    "#Epoch 28, CIFAR-10 Batch 1:  Loss:    68.9655 Validation Accuracy: 0.512800\n",
    "#Epoch 29, CIFAR-10 Batch 1:  Loss:    63.0648 Validation Accuracy: 0.516200\n",
    "#Epoch 30, CIFAR-10 Batch 1:  Loss:    22.2646 Validation Accuracy: 0.487200\n",
    "#Epoch 31, CIFAR-10 Batch 1:  Loss:    35.9158 Validation Accuracy: 0.510000\n",
    "#Epoch 32, CIFAR-10 Batch 1:  Loss:    42.4537 Validation Accuracy: 0.521400\n",
    "#Epoch 33, CIFAR-10 Batch 1:  Loss:    38.5387 Validation Accuracy: 0.522800\n",
    "#Epoch 34, CIFAR-10 Batch 1:  Loss:    31.8497 Validation Accuracy: 0.514800\n",
    "#Epoch 35, CIFAR-10 Batch 1:  Loss:    30.8056 Validation Accuracy: 0.525400\n",
    "#Epoch 36, CIFAR-10 Batch 1:  Loss:    29.8212 Validation Accuracy: 0.512800\n",
    "#Epoch 37, CIFAR-10 Batch 1:  Loss:    26.5892 Validation Accuracy: 0.517000\n",
    "#Epoch 38, CIFAR-10 Batch 1:  Loss:    25.0545 Validation Accuracy: 0.519800\n",
    "#Epoch 39, CIFAR-10 Batch 1:  Loss:    21.4152 Validation Accuracy: 0.524600\n",
    "#Epoch 40, CIFAR-10 Batch 1:  Loss:    12.2295 Validation Accuracy: 0.522200\n",
    "\n",
    "\n",
    "# With ReLu activation, no matter how simple or complex the model is, accuracy is stays very low\n",
    "#Epoch  1, CIFAR-10 Batch 1:  Loss:  3718.9602 Validation Accuracy: 0.104200\n",
    "#Epoch  2, CIFAR-10 Batch 1:  Loss:   183.0802 Validation Accuracy: 0.099200\n",
    "#Epoch  3, CIFAR-10 Batch 1:  Loss:   100.0846 Validation Accuracy: 0.099600\n",
    "#Epoch  4, CIFAR-10 Batch 1:  Loss:    39.8478 Validation Accuracy: 0.099800\n",
    "#...\n",
    "    #x_tensor = conv2d_maxpool(x, 100, (2,2), (2,2), (2,2), (2,2))\n",
    "    #x_tensor = conv2d_maxpool(x_tensor, 400, (2,2), (2,2), (1,1), (1,1))\n",
    "    #x_tensor = conv2d_maxpool(x_tensor, 400, (1,1), (1,1), (1,1), (1,1))\n",
    "    #x_tensor = flatten(x_tensor)    \n",
    "    #fc = fully_conn(x_tensor, 600)\n",
    "    #fc = fully_conn(fc, 60)\n",
    "\n",
    "    #For this model, results are clearly better without an activation function\n",
    "    # A simple model can achieve desired results.  keep_prob=0.5\n",
    "    x_tensor = conv2d_maxpool(x, 420, (2,2), (2,2), (2,2), (2,2))\n",
    "    x_tensor = flatten(x_tensor)    \n",
    "    fc = fully_conn(x_tensor, 320)\n",
    "        \n",
    "    #Apply dropout\n",
    "    fc = tf.nn.dropout(fc, keep_prob)\n",
    "    \n",
    "    #    Set this to the number of classes\n",
    "    # Function Definition from Above:\n",
    "    logits = output(fc, 10)\n",
    "    \n",
    "    return logits\n",
    "\n",
    "\n",
    "\"\"\"\n",
    "DON'T MODIFY ANYTHING IN THIS CELL THAT IS BELOW THIS LINE\n",
    "\"\"\"\n",
    "\n",
    "##############################\n",
    "## Build the Neural Network ##\n",
    "##############################\n",
    "\n",
    "# Remove previous weights, bias, inputs, etc..\n",
    "tf.reset_default_graph()\n",
    "\n",
    "# Inputs\n",
    "x = neural_net_image_input((32, 32, 3))\n",
    "y = neural_net_label_input(10)\n",
    "keep_prob = neural_net_keep_prob_input()\n",
    "\n",
    "# Model\n",
    "logits = conv_net(x, keep_prob)\n",
    "\n",
    "# Name logits Tensor, so that is can be loaded from disk after training\n",
    "logits = tf.identity(logits, name='logits')\n",
    "\n",
    "# Loss and Optimizer\n",
    "cost = tf.reduce_mean(tf.nn.softmax_cross_entropy_with_logits(logits=logits, labels=y))\n",
    "optimizer = tf.train.AdamOptimizer().minimize(cost)\n",
    "\n",
    "# Accuracy\n",
    "correct_pred = tf.equal(tf.argmax(logits, 1), tf.argmax(y, 1))\n",
    "accuracy = tf.reduce_mean(tf.cast(correct_pred, tf.float32), name='accuracy')\n",
    "\n",
    "tests.test_conv_net(conv_net)"
   ]
  },
  {
   "cell_type": "markdown",
   "metadata": {},
   "source": [
    "## Train the Neural Network\n",
    "### Single Optimization\n",
    "Implement the function `train_neural_network` to do a single optimization.  The optimization should use `optimizer` to optimize in `session` with a `feed_dict` of the following:\n",
    "* `x` for image input\n",
    "* `y` for labels\n",
    "* `keep_prob` for keep probability for dropout\n",
    "\n",
    "This function will be called for each batch, so `tf.global_variables_initializer()` has already been called.\n",
    "\n",
    "Note: Nothing needs to be returned. This function is only optimizing the neural network."
   ]
  },
  {
   "cell_type": "code",
   "execution_count": null,
   "metadata": {
    "collapsed": false
   },
   "outputs": [],
   "source": [
    "def train_neural_network(session, optimizer, keep_probability, feature_batch, label_batch):\n",
    "    \"\"\"\n",
    "    Optimize the session on a batch of images and labels\n",
    "    : session: Current TensorFlow session\n",
    "    : optimizer: TensorFlow optimizer function\n",
    "    : keep_probability: keep probability\n",
    "    : feature_batch: Batch of Numpy image data\n",
    "    : label_batch: Batch of Numpy label data\n",
    "    \"\"\"\n",
    "    # TODO: Implement Function\n",
    "    session.run(optimizer, feed_dict={x: feature_batch, y: label_batch, keep_prob: keep_probability})\n",
    "    pass\n",
    "\n",
    "\n",
    "\"\"\"\n",
    "DON'T MODIFY ANYTHING IN THIS CELL THAT IS BELOW THIS LINE\n",
    "\"\"\"\n",
    "tests.test_train_nn(train_neural_network)"
   ]
  },
  {
   "cell_type": "markdown",
   "metadata": {},
   "source": [
    "### Show Stats\n",
    "Implement the function `print_stats` to print loss and validation accuracy.  Use the global variables `valid_features` and `valid_labels` to calculate validation accuracy.  Use a keep probability of `1.0` to calculate the loss and validation accuracy."
   ]
  },
  {
   "cell_type": "code",
   "execution_count": null,
   "metadata": {
    "collapsed": false
   },
   "outputs": [],
   "source": [
    "def print_stats(session, feature_batch, label_batch, cost, accuracy):\n",
    "    \"\"\"\n",
    "    Print information about loss and validation accuracy\n",
    "    : session: Current TensorFlow session\n",
    "    : feature_batch: Batch of Numpy image data\n",
    "    : label_batch: Batch of Numpy label data\n",
    "    : cost: TensorFlow cost function\n",
    "    : accuracy: TensorFlow accuracy function\n",
    "    \"\"\"\n",
    "    # Calculate loss and accuracy\n",
    "    loss = session.run(cost, feed_dict={x: feature_batch, y: label_batch, keep_prob: 1.0})\n",
    "    valid_acc = session.run(accuracy, feed_dict={x: valid_features, y: valid_labels, keep_prob: 1.0})\n",
    "\n",
    "    print('Loss: {:>10.4f} Validation Accuracy: {:.6f}'.format(loss, valid_acc))"
   ]
  },
  {
   "cell_type": "markdown",
   "metadata": {},
   "source": [
    "### Hyperparameters\n",
    "Tune the following parameters:\n",
    "* Set `epochs` to the number of iterations until the network stops learning or start overfitting\n",
    "* Set `batch_size` to the highest number that your machine has memory for.  Most people set them to common sizes of memory:\n",
    " * 64\n",
    " * 128\n",
    " * 256\n",
    " * ...\n",
    "* Set `keep_probability` to the probability of keeping a node using dropout"
   ]
  },
  {
   "cell_type": "code",
   "execution_count": 164,
   "metadata": {
    "collapsed": true
   },
   "outputs": [],
   "source": [
    "# TODO: Tune Parameters\n",
    "epochs = 32 #40 - passed 32 seems to be overfitting. \n",
    "batch_size = 256\n",
    "keep_probability = 0.5"
   ]
  },
  {
   "cell_type": "markdown",
   "metadata": {},
   "source": [
    "### Train on a Single CIFAR-10 Batch\n",
    "Instead of training the neural network on all the CIFAR-10 batches of data, let's use a single batch. This should save time while you iterate on the model to get a better accuracy.  Once the final validation accuracy is 50% or greater, run the model on all the data in the next section."
   ]
  },
  {
   "cell_type": "code",
   "execution_count": 165,
   "metadata": {
    "collapsed": false
   },
   "outputs": [
    {
     "name": "stdout",
     "output_type": "stream",
     "text": [
      "Checking the Training on a Single Batch...\n",
      "Epoch  1, CIFAR-10 Batch 1:  Loss:  1348.4635 Validation Accuracy: 0.231000\n",
      "Epoch  2, CIFAR-10 Batch 1:  Loss:   852.9526 Validation Accuracy: 0.289800\n",
      "Epoch  3, CIFAR-10 Batch 1:  Loss:   648.7886 Validation Accuracy: 0.309000\n",
      "Epoch  4, CIFAR-10 Batch 1:  Loss:   523.0573 Validation Accuracy: 0.340600\n",
      "Epoch  5, CIFAR-10 Batch 1:  Loss:   381.0323 Validation Accuracy: 0.368200\n",
      "Epoch  6, CIFAR-10 Batch 1:  Loss:   372.6640 Validation Accuracy: 0.362800\n",
      "Epoch  7, CIFAR-10 Batch 1:  Loss:   329.9476 Validation Accuracy: 0.385800\n",
      "Epoch  8, CIFAR-10 Batch 1:  Loss:   259.4498 Validation Accuracy: 0.408800\n",
      "Epoch  9, CIFAR-10 Batch 1:  Loss:   236.1120 Validation Accuracy: 0.410600\n",
      "Epoch 10, CIFAR-10 Batch 1:  Loss:   204.3071 Validation Accuracy: 0.437200\n",
      "Epoch 11, CIFAR-10 Batch 1:  Loss:   201.5808 Validation Accuracy: 0.426600\n",
      "Epoch 12, CIFAR-10 Batch 1:  Loss:   147.3713 Validation Accuracy: 0.436200\n",
      "Epoch 13, CIFAR-10 Batch 1:  Loss:   174.3811 Validation Accuracy: 0.433800\n",
      "Epoch 14, CIFAR-10 Batch 1:  Loss:   133.3927 Validation Accuracy: 0.465200\n",
      "Epoch 15, CIFAR-10 Batch 1:  Loss:   122.2148 Validation Accuracy: 0.456800\n",
      "Epoch 16, CIFAR-10 Batch 1:  Loss:   119.9722 Validation Accuracy: 0.454800\n",
      "Epoch 17, CIFAR-10 Batch 1:  Loss:   127.9319 Validation Accuracy: 0.461400\n",
      "Epoch 18, CIFAR-10 Batch 1:  Loss:   106.3714 Validation Accuracy: 0.468800\n",
      "Epoch 19, CIFAR-10 Batch 1:  Loss:   113.2229 Validation Accuracy: 0.461200\n",
      "Epoch 20, CIFAR-10 Batch 1:  Loss:   112.6350 Validation Accuracy: 0.469000\n",
      "Epoch 21, CIFAR-10 Batch 1:  Loss:    70.9954 Validation Accuracy: 0.487000\n",
      "Epoch 22, CIFAR-10 Batch 1:  Loss:    66.5054 Validation Accuracy: 0.485600\n",
      "Epoch 23, CIFAR-10 Batch 1:  Loss:    74.8068 Validation Accuracy: 0.494000\n",
      "Epoch 24, CIFAR-10 Batch 1:  Loss:    67.0615 Validation Accuracy: 0.482000\n",
      "Epoch 25, CIFAR-10 Batch 1:  Loss:    59.8830 Validation Accuracy: 0.499600\n",
      "Epoch 26, CIFAR-10 Batch 1:  Loss:    54.6736 Validation Accuracy: 0.510400\n",
      "Epoch 27, CIFAR-10 Batch 1:  Loss:    56.8855 Validation Accuracy: 0.503000\n",
      "Epoch 28, CIFAR-10 Batch 1:  Loss:    44.4212 Validation Accuracy: 0.503200\n",
      "Epoch 29, CIFAR-10 Batch 1:  Loss:    40.9199 Validation Accuracy: 0.485800\n",
      "Epoch 30, CIFAR-10 Batch 1:  Loss:    51.6988 Validation Accuracy: 0.511200\n",
      "Epoch 31, CIFAR-10 Batch 1:  Loss:    65.9245 Validation Accuracy: 0.509000\n",
      "Epoch 32, CIFAR-10 Batch 1:  Loss:    45.0523 Validation Accuracy: 0.514600\n",
      "Epoch 33, CIFAR-10 Batch 1:  Loss:    36.0361 Validation Accuracy: 0.506000\n",
      "Epoch 34, CIFAR-10 Batch 1:  Loss:    41.3859 Validation Accuracy: 0.516800\n",
      "Epoch 35, CIFAR-10 Batch 1:  Loss:    38.2601 Validation Accuracy: 0.500000\n",
      "Epoch 36, CIFAR-10 Batch 1:  Loss:    24.2195 Validation Accuracy: 0.509400\n",
      "Epoch 37, CIFAR-10 Batch 1:  Loss:    33.5288 Validation Accuracy: 0.510800\n",
      "Epoch 38, CIFAR-10 Batch 1:  Loss:    34.5497 Validation Accuracy: 0.504800\n",
      "Epoch 39, CIFAR-10 Batch 1:  Loss:    28.5678 Validation Accuracy: 0.504200\n",
      "Epoch 40, CIFAR-10 Batch 1:  Loss:    27.9420 Validation Accuracy: 0.528000\n"
     ]
    }
   ],
   "source": [
    "\"\"\"\n",
    "DON'T MODIFY ANYTHING IN THIS CELL\n",
    "\"\"\"\n",
    "print('Checking the Training on a Single Batch...')\n",
    "with tf.Session() as sess:\n",
    "    # Initializing the variables\n",
    "    sess.run(tf.global_variables_initializer())\n",
    "    \n",
    "    # Training cycle\n",
    "    for epoch in range(epochs):\n",
    "        batch_i = 1\n",
    "        for batch_features, batch_labels in helper.load_preprocess_training_batch(batch_i, batch_size):\n",
    "            train_neural_network(sess, optimizer, keep_probability, batch_features, batch_labels)\n",
    "        print('Epoch {:>2}, CIFAR-10 Batch {}:  '.format(epoch + 1, batch_i), end='')\n",
    "        print_stats(sess, batch_features, batch_labels, cost, accuracy)"
   ]
  },
  {
   "cell_type": "markdown",
   "metadata": {},
   "source": [
    "### Fully Train the Model\n",
    "Now that you got a good accuracy with a single CIFAR-10 batch, try it with all five batches."
   ]
  },
  {
   "cell_type": "code",
   "execution_count": 167,
   "metadata": {
    "collapsed": false
   },
   "outputs": [
    {
     "name": "stdout",
     "output_type": "stream",
     "text": [
      "Training...\n",
      "Epoch  1, CIFAR-10 Batch 1:  Loss:  1055.0944 Validation Accuracy: 0.255200\n",
      "Epoch  1, CIFAR-10 Batch 2:  Loss:   601.0362 Validation Accuracy: 0.286600\n",
      "Epoch  1, CIFAR-10 Batch 3:  Loss:   541.2609 Validation Accuracy: 0.329600\n",
      "Epoch  1, CIFAR-10 Batch 4:  Loss:   623.8522 Validation Accuracy: 0.341600\n",
      "Epoch  1, CIFAR-10 Batch 5:  Loss:   515.5396 Validation Accuracy: 0.369000\n",
      "Epoch  2, CIFAR-10 Batch 1:  Loss:   492.0528 Validation Accuracy: 0.381400\n",
      "Epoch  2, CIFAR-10 Batch 2:  Loss:   283.0833 Validation Accuracy: 0.396400\n",
      "Epoch  2, CIFAR-10 Batch 3:  Loss:   332.2672 Validation Accuracy: 0.398600\n",
      "Epoch  2, CIFAR-10 Batch 4:  Loss:   303.6414 Validation Accuracy: 0.444800\n",
      "Epoch  2, CIFAR-10 Batch 5:  Loss:   295.3211 Validation Accuracy: 0.439400\n",
      "Epoch  3, CIFAR-10 Batch 1:  Loss:   414.4892 Validation Accuracy: 0.459600\n",
      "Epoch  3, CIFAR-10 Batch 2:  Loss:   195.2627 Validation Accuracy: 0.450800\n",
      "Epoch  3, CIFAR-10 Batch 3:  Loss:   219.7750 Validation Accuracy: 0.450600\n",
      "Epoch  3, CIFAR-10 Batch 4:  Loss:   298.3300 Validation Accuracy: 0.471400\n",
      "Epoch  3, CIFAR-10 Batch 5:  Loss:   230.9581 Validation Accuracy: 0.479200\n",
      "Epoch  4, CIFAR-10 Batch 1:  Loss:   322.5079 Validation Accuracy: 0.469000\n",
      "Epoch  4, CIFAR-10 Batch 2:  Loss:   142.1002 Validation Accuracy: 0.488200\n",
      "Epoch  4, CIFAR-10 Batch 3:  Loss:   185.7415 Validation Accuracy: 0.477400\n",
      "Epoch  4, CIFAR-10 Batch 4:  Loss:   188.5774 Validation Accuracy: 0.505200\n",
      "Epoch  4, CIFAR-10 Batch 5:  Loss:   180.6967 Validation Accuracy: 0.505200\n",
      "Epoch  5, CIFAR-10 Batch 1:  Loss:   279.1605 Validation Accuracy: 0.506400\n",
      "Epoch  5, CIFAR-10 Batch 2:  Loss:   112.4373 Validation Accuracy: 0.499400\n",
      "Epoch  5, CIFAR-10 Batch 3:  Loss:   139.0332 Validation Accuracy: 0.513800\n",
      "Epoch  5, CIFAR-10 Batch 4:  Loss:   174.0274 Validation Accuracy: 0.515000\n",
      "Epoch  5, CIFAR-10 Batch 5:  Loss:   146.2059 Validation Accuracy: 0.506000\n",
      "Epoch  6, CIFAR-10 Batch 1:  Loss:   232.9267 Validation Accuracy: 0.533400\n",
      "Epoch  6, CIFAR-10 Batch 2:  Loss:   102.6138 Validation Accuracy: 0.495600\n",
      "Epoch  6, CIFAR-10 Batch 3:  Loss:   103.4586 Validation Accuracy: 0.528600\n",
      "Epoch  6, CIFAR-10 Batch 4:  Loss:   110.1409 Validation Accuracy: 0.540000\n",
      "Epoch  6, CIFAR-10 Batch 5:  Loss:    97.8884 Validation Accuracy: 0.523200\n",
      "Epoch  7, CIFAR-10 Batch 1:  Loss:   161.8759 Validation Accuracy: 0.553200\n",
      "Epoch  7, CIFAR-10 Batch 2:  Loss:    84.8244 Validation Accuracy: 0.520400\n",
      "Epoch  7, CIFAR-10 Batch 3:  Loss:    79.0061 Validation Accuracy: 0.544200\n",
      "Epoch  7, CIFAR-10 Batch 4:  Loss:   108.4578 Validation Accuracy: 0.540200\n",
      "Epoch  7, CIFAR-10 Batch 5:  Loss:    75.6217 Validation Accuracy: 0.531400\n",
      "Epoch  8, CIFAR-10 Batch 1:  Loss:   149.3287 Validation Accuracy: 0.543800\n",
      "Epoch  8, CIFAR-10 Batch 2:  Loss:    46.2901 Validation Accuracy: 0.537400\n",
      "Epoch  8, CIFAR-10 Batch 3:  Loss:    51.5469 Validation Accuracy: 0.542600\n",
      "Epoch  8, CIFAR-10 Batch 4:  Loss:   102.3822 Validation Accuracy: 0.547400\n",
      "Epoch  8, CIFAR-10 Batch 5:  Loss:    66.4338 Validation Accuracy: 0.532200\n",
      "Epoch  9, CIFAR-10 Batch 1:  Loss:   141.4691 Validation Accuracy: 0.560000\n",
      "Epoch  9, CIFAR-10 Batch 2:  Loss:    41.8764 Validation Accuracy: 0.542000\n",
      "Epoch  9, CIFAR-10 Batch 3:  Loss:    47.6930 Validation Accuracy: 0.527600\n",
      "Epoch  9, CIFAR-10 Batch 4:  Loss:    94.5962 Validation Accuracy: 0.556400\n",
      "Epoch  9, CIFAR-10 Batch 5:  Loss:    41.7580 Validation Accuracy: 0.545400\n",
      "Epoch 10, CIFAR-10 Batch 1:  Loss:   130.7715 Validation Accuracy: 0.553800\n",
      "Epoch 10, CIFAR-10 Batch 2:  Loss:    32.8815 Validation Accuracy: 0.552800\n",
      "Epoch 10, CIFAR-10 Batch 3:  Loss:    29.0000 Validation Accuracy: 0.556400\n",
      "Epoch 10, CIFAR-10 Batch 4:  Loss:    70.3544 Validation Accuracy: 0.561000\n",
      "Epoch 10, CIFAR-10 Batch 5:  Loss:    39.8380 Validation Accuracy: 0.552400\n",
      "Epoch 11, CIFAR-10 Batch 1:  Loss:   124.7952 Validation Accuracy: 0.570600\n",
      "Epoch 11, CIFAR-10 Batch 2:  Loss:    36.0268 Validation Accuracy: 0.542400\n",
      "Epoch 11, CIFAR-10 Batch 3:  Loss:    23.1093 Validation Accuracy: 0.563000\n",
      "Epoch 11, CIFAR-10 Batch 4:  Loss:    51.2635 Validation Accuracy: 0.569600\n",
      "Epoch 11, CIFAR-10 Batch 5:  Loss:    29.7150 Validation Accuracy: 0.563400\n",
      "Epoch 12, CIFAR-10 Batch 1:  Loss:    92.4546 Validation Accuracy: 0.565200\n",
      "Epoch 12, CIFAR-10 Batch 2:  Loss:    40.7608 Validation Accuracy: 0.552600\n",
      "Epoch 12, CIFAR-10 Batch 3:  Loss:    33.5349 Validation Accuracy: 0.556400\n",
      "Epoch 12, CIFAR-10 Batch 4:  Loss:    43.7538 Validation Accuracy: 0.551400\n",
      "Epoch 12, CIFAR-10 Batch 5:  Loss:    25.2027 Validation Accuracy: 0.570600\n",
      "Epoch 13, CIFAR-10 Batch 1:  Loss:    77.6720 Validation Accuracy: 0.572400\n",
      "Epoch 13, CIFAR-10 Batch 2:  Loss:    24.3619 Validation Accuracy: 0.564000\n",
      "Epoch 13, CIFAR-10 Batch 3:  Loss:    24.5386 Validation Accuracy: 0.567200\n",
      "Epoch 13, CIFAR-10 Batch 4:  Loss:    42.0479 Validation Accuracy: 0.559400\n",
      "Epoch 13, CIFAR-10 Batch 5:  Loss:    19.9519 Validation Accuracy: 0.568800\n",
      "Epoch 14, CIFAR-10 Batch 1:  Loss:    72.7541 Validation Accuracy: 0.567800\n",
      "Epoch 14, CIFAR-10 Batch 2:  Loss:    16.9085 Validation Accuracy: 0.568600\n",
      "Epoch 14, CIFAR-10 Batch 3:  Loss:    19.6573 Validation Accuracy: 0.573600\n",
      "Epoch 14, CIFAR-10 Batch 4:  Loss:    30.9739 Validation Accuracy: 0.562200\n",
      "Epoch 14, CIFAR-10 Batch 5:  Loss:    24.8101 Validation Accuracy: 0.570800\n",
      "Epoch 15, CIFAR-10 Batch 1:  Loss:    53.5403 Validation Accuracy: 0.561200\n",
      "Epoch 15, CIFAR-10 Batch 2:  Loss:    18.7442 Validation Accuracy: 0.557400\n",
      "Epoch 15, CIFAR-10 Batch 3:  Loss:    29.6317 Validation Accuracy: 0.570000\n",
      "Epoch 15, CIFAR-10 Batch 4:  Loss:    21.1808 Validation Accuracy: 0.571400\n",
      "Epoch 15, CIFAR-10 Batch 5:  Loss:    18.8247 Validation Accuracy: 0.567000\n",
      "Epoch 16, CIFAR-10 Batch 1:  Loss:    54.1623 Validation Accuracy: 0.572200\n",
      "Epoch 16, CIFAR-10 Batch 2:  Loss:     7.1078 Validation Accuracy: 0.562800\n",
      "Epoch 16, CIFAR-10 Batch 3:  Loss:    16.4105 Validation Accuracy: 0.577600\n",
      "Epoch 16, CIFAR-10 Batch 4:  Loss:    16.4991 Validation Accuracy: 0.573200\n",
      "Epoch 16, CIFAR-10 Batch 5:  Loss:    19.9874 Validation Accuracy: 0.568400\n",
      "Epoch 17, CIFAR-10 Batch 1:  Loss:    55.6368 Validation Accuracy: 0.583200\n",
      "Epoch 17, CIFAR-10 Batch 2:  Loss:     7.7709 Validation Accuracy: 0.565800\n",
      "Epoch 17, CIFAR-10 Batch 3:  Loss:    18.3227 Validation Accuracy: 0.568800\n",
      "Epoch 17, CIFAR-10 Batch 4:  Loss:    13.2536 Validation Accuracy: 0.562600\n",
      "Epoch 17, CIFAR-10 Batch 5:  Loss:    17.7468 Validation Accuracy: 0.581000\n",
      "Epoch 18, CIFAR-10 Batch 1:  Loss:    37.0365 Validation Accuracy: 0.577000\n",
      "Epoch 18, CIFAR-10 Batch 2:  Loss:     7.1516 Validation Accuracy: 0.573600\n",
      "Epoch 18, CIFAR-10 Batch 3:  Loss:     6.1593 Validation Accuracy: 0.581400\n",
      "Epoch 18, CIFAR-10 Batch 4:  Loss:    15.8266 Validation Accuracy: 0.569200\n",
      "Epoch 18, CIFAR-10 Batch 5:  Loss:    15.1218 Validation Accuracy: 0.579000\n",
      "Epoch 19, CIFAR-10 Batch 1:  Loss:    35.2372 Validation Accuracy: 0.580200\n",
      "Epoch 19, CIFAR-10 Batch 2:  Loss:     6.4932 Validation Accuracy: 0.570400\n",
      "Epoch 19, CIFAR-10 Batch 3:  Loss:     5.0973 Validation Accuracy: 0.583400\n",
      "Epoch 19, CIFAR-10 Batch 4:  Loss:    10.1285 Validation Accuracy: 0.580000\n",
      "Epoch 19, CIFAR-10 Batch 5:  Loss:    13.6421 Validation Accuracy: 0.576800\n",
      "Epoch 20, CIFAR-10 Batch 1:  Loss:    36.4082 Validation Accuracy: 0.585200\n",
      "Epoch 20, CIFAR-10 Batch 2:  Loss:     7.1141 Validation Accuracy: 0.578400\n",
      "Epoch 20, CIFAR-10 Batch 3:  Loss:     8.2841 Validation Accuracy: 0.583800\n",
      "Epoch 20, CIFAR-10 Batch 4:  Loss:    13.8556 Validation Accuracy: 0.582200\n",
      "Epoch 20, CIFAR-10 Batch 5:  Loss:     8.0370 Validation Accuracy: 0.573200\n",
      "Epoch 21, CIFAR-10 Batch 1:  Loss:    23.0686 Validation Accuracy: 0.585800\n",
      "Epoch 21, CIFAR-10 Batch 2:  Loss:     6.7231 Validation Accuracy: 0.580800\n",
      "Epoch 21, CIFAR-10 Batch 3:  Loss:     6.3733 Validation Accuracy: 0.585400\n",
      "Epoch 21, CIFAR-10 Batch 4:  Loss:    10.3526 Validation Accuracy: 0.586800\n",
      "Epoch 21, CIFAR-10 Batch 5:  Loss:     8.2413 Validation Accuracy: 0.582200\n",
      "Epoch 22, CIFAR-10 Batch 1:  Loss:    22.3058 Validation Accuracy: 0.579400\n",
      "Epoch 22, CIFAR-10 Batch 2:  Loss:     5.5847 Validation Accuracy: 0.581600\n",
      "Epoch 22, CIFAR-10 Batch 3:  Loss:     6.8346 Validation Accuracy: 0.587000\n",
      "Epoch 22, CIFAR-10 Batch 4:  Loss:     8.9588 Validation Accuracy: 0.586600\n",
      "Epoch 22, CIFAR-10 Batch 5:  Loss:     8.8197 Validation Accuracy: 0.580600\n",
      "Epoch 23, CIFAR-10 Batch 1:  Loss:    20.1050 Validation Accuracy: 0.585000\n",
      "Epoch 23, CIFAR-10 Batch 2:  Loss:     3.5683 Validation Accuracy: 0.580400\n",
      "Epoch 23, CIFAR-10 Batch 3:  Loss:     3.9619 Validation Accuracy: 0.590400\n",
      "Epoch 23, CIFAR-10 Batch 4:  Loss:     7.0713 Validation Accuracy: 0.588800\n",
      "Epoch 23, CIFAR-10 Batch 5:  Loss:     5.7121 Validation Accuracy: 0.593200\n",
      "Epoch 24, CIFAR-10 Batch 1:  Loss:    15.8519 Validation Accuracy: 0.588200\n",
      "Epoch 24, CIFAR-10 Batch 2:  Loss:     5.1931 Validation Accuracy: 0.590600\n",
      "Epoch 24, CIFAR-10 Batch 3:  Loss:     4.9287 Validation Accuracy: 0.591000\n",
      "Epoch 24, CIFAR-10 Batch 4:  Loss:     8.2160 Validation Accuracy: 0.585400\n",
      "Epoch 24, CIFAR-10 Batch 5:  Loss:     4.3942 Validation Accuracy: 0.586800\n",
      "Epoch 25, CIFAR-10 Batch 1:  Loss:    16.7021 Validation Accuracy: 0.584800\n",
      "Epoch 25, CIFAR-10 Batch 2:  Loss:     3.7585 Validation Accuracy: 0.588200\n",
      "Epoch 25, CIFAR-10 Batch 3:  Loss:     4.2488 Validation Accuracy: 0.585400\n",
      "Epoch 25, CIFAR-10 Batch 4:  Loss:     4.9543 Validation Accuracy: 0.591800\n",
      "Epoch 25, CIFAR-10 Batch 5:  Loss:     6.5421 Validation Accuracy: 0.575800\n",
      "Epoch 26, CIFAR-10 Batch 1:  Loss:    10.6552 Validation Accuracy: 0.586400\n",
      "Epoch 26, CIFAR-10 Batch 2:  Loss:     3.6298 Validation Accuracy: 0.589200\n",
      "Epoch 26, CIFAR-10 Batch 3:  Loss:     3.2109 Validation Accuracy: 0.582400\n",
      "Epoch 26, CIFAR-10 Batch 4:  Loss:     5.8827 Validation Accuracy: 0.588000\n",
      "Epoch 26, CIFAR-10 Batch 5:  Loss:     4.7162 Validation Accuracy: 0.574800\n",
      "Epoch 27, CIFAR-10 Batch 1:  Loss:     9.8214 Validation Accuracy: 0.587600\n",
      "Epoch 27, CIFAR-10 Batch 2:  Loss:     3.6018 Validation Accuracy: 0.587400\n",
      "Epoch 27, CIFAR-10 Batch 3:  Loss:     2.4742 Validation Accuracy: 0.588000\n",
      "Epoch 27, CIFAR-10 Batch 4:  Loss:     3.8535 Validation Accuracy: 0.585400\n",
      "Epoch 27, CIFAR-10 Batch 5:  Loss:     3.9719 Validation Accuracy: 0.581800\n",
      "Epoch 28, CIFAR-10 Batch 1:  Loss:     7.7795 Validation Accuracy: 0.584200\n",
      "Epoch 28, CIFAR-10 Batch 2:  Loss:     2.4708 Validation Accuracy: 0.585200\n",
      "Epoch 28, CIFAR-10 Batch 3:  Loss:     1.0417 Validation Accuracy: 0.585000\n",
      "Epoch 28, CIFAR-10 Batch 4:  Loss:     4.7364 Validation Accuracy: 0.580000\n",
      "Epoch 28, CIFAR-10 Batch 5:  Loss:     4.7794 Validation Accuracy: 0.584000\n",
      "Epoch 29, CIFAR-10 Batch 1:  Loss:     7.5923 Validation Accuracy: 0.583200\n",
      "Epoch 29, CIFAR-10 Batch 2:  Loss:     1.8607 Validation Accuracy: 0.582200\n",
      "Epoch 29, CIFAR-10 Batch 3:  Loss:     0.0075 Validation Accuracy: 0.577000\n",
      "Epoch 29, CIFAR-10 Batch 4:  Loss:     4.6284 Validation Accuracy: 0.576800\n",
      "Epoch 29, CIFAR-10 Batch 5:  Loss:     5.8372 Validation Accuracy: 0.578200\n",
      "Epoch 30, CIFAR-10 Batch 1:  Loss:     6.8701 Validation Accuracy: 0.580400\n",
      "Epoch 30, CIFAR-10 Batch 2:  Loss:     0.8348 Validation Accuracy: 0.581800\n",
      "Epoch 30, CIFAR-10 Batch 3:  Loss:     1.0520 Validation Accuracy: 0.586200\n",
      "Epoch 30, CIFAR-10 Batch 4:  Loss:     3.2022 Validation Accuracy: 0.582200\n",
      "Epoch 30, CIFAR-10 Batch 5:  Loss:     4.2698 Validation Accuracy: 0.583800\n",
      "Epoch 31, CIFAR-10 Batch 1:  Loss:     6.3420 Validation Accuracy: 0.581600\n",
      "Epoch 31, CIFAR-10 Batch 2:  Loss:     0.6563 Validation Accuracy: 0.583000\n",
      "Epoch 31, CIFAR-10 Batch 3:  Loss:     0.2854 Validation Accuracy: 0.583400\n",
      "Epoch 31, CIFAR-10 Batch 4:  Loss:     2.6418 Validation Accuracy: 0.581000\n",
      "Epoch 31, CIFAR-10 Batch 5:  Loss:     3.1829 Validation Accuracy: 0.583800\n",
      "Epoch 32, CIFAR-10 Batch 1:  Loss:     5.4671 Validation Accuracy: 0.582600\n",
      "Epoch 32, CIFAR-10 Batch 2:  Loss:     0.5363 Validation Accuracy: 0.579400\n",
      "Epoch 32, CIFAR-10 Batch 3:  Loss:     0.3615 Validation Accuracy: 0.578800\n",
      "Epoch 32, CIFAR-10 Batch 4:  Loss:     2.6314 Validation Accuracy: 0.579200\n",
      "Epoch 32, CIFAR-10 Batch 5:  Loss:     4.7687 Validation Accuracy: 0.577400\n"
     ]
    }
   ],
   "source": [
    "\"\"\"\n",
    "DON'T MODIFY ANYTHING IN THIS CELL\n",
    "\"\"\"\n",
    "save_model_path = './image_classification'\n",
    "\n",
    "print('Training...')\n",
    "with tf.Session() as sess:\n",
    "    # Initializing the variables\n",
    "    sess.run(tf.global_variables_initializer())\n",
    "    \n",
    "    # Training cycle\n",
    "    for epoch in range(epochs):\n",
    "        # Loop over all batches\n",
    "        n_batches = 5\n",
    "        for batch_i in range(1, n_batches + 1):\n",
    "            for batch_features, batch_labels in helper.load_preprocess_training_batch(batch_i, batch_size):\n",
    "                train_neural_network(sess, optimizer, keep_probability, batch_features, batch_labels)\n",
    "            print('Epoch {:>2}, CIFAR-10 Batch {}:  '.format(epoch + 1, batch_i), end='')\n",
    "            print_stats(sess, batch_features, batch_labels, cost, accuracy)\n",
    "            \n",
    "    # Save Model\n",
    "    saver = tf.train.Saver()\n",
    "    save_path = saver.save(sess, save_model_path)"
   ]
  },
  {
   "cell_type": "markdown",
   "metadata": {},
   "source": [
    "# Checkpoint\n",
    "The model has been saved to disk.\n",
    "## Test Model\n",
    "Test your model against the test dataset.  This will be your final accuracy. You should have an accuracy greater than 50%. If you don't, keep tweaking the model architecture and parameters."
   ]
  },
  {
   "cell_type": "code",
   "execution_count": 168,
   "metadata": {
    "collapsed": false
   },
   "outputs": [
    {
     "name": "stdout",
     "output_type": "stream",
     "text": [
      "Testing Accuracy: 0.566015625\n",
      "\n"
     ]
    },
    {
     "data": {
      "image/png": "[encoded data removed]",
      "text/plain": [
       "<matplotlib.figure.Figure at 0x7f6cad104128>"
      ]
     },
     "metadata": {
      "image/png": {
       "height": 319,
       "width": 349
      }
     },
     "output_type": "display_data"
    }
   ],
   "source": [
    "\"\"\"\n",
    "DON'T MODIFY ANYTHING IN THIS CELL\n",
    "\"\"\"\n",
    "%matplotlib inline\n",
    "%config InlineBackend.figure_format = 'retina'\n",
    "\n",
    "import tensorflow as tf\n",
    "import pickle\n",
    "import helper\n",
    "import random\n",
    "\n",
    "# Set batch size if not already set\n",
    "try:\n",
    "    if batch_size:\n",
    "        pass\n",
    "except NameError:\n",
    "    batch_size = 64\n",
    "\n",
    "save_model_path = './image_classification'\n",
    "n_samples = 4\n",
    "top_n_predictions = 3\n",
    "\n",
    "def test_model():\n",
    "    \"\"\"\n",
    "    Test the saved model against the test dataset\n",
    "    \"\"\"\n",
    "\n",
    "    test_features, test_labels = pickle.load(open('preprocess_training.p', mode='rb'))\n",
    "    loaded_graph = tf.Graph()\n",
    "\n",
    "    with tf.Session(graph=loaded_graph) as sess:\n",
    "        # Load model\n",
    "        loader = tf.train.import_meta_graph(save_model_path + '.meta')\n",
    "        loader.restore(sess, save_model_path)\n",
    "\n",
    "        # Get Tensors from loaded model\n",
    "        loaded_x = loaded_graph.get_tensor_by_name('x:0')\n",
    "        loaded_y = loaded_graph.get_tensor_by_name('y:0')\n",
    "        loaded_keep_prob = loaded_graph.get_tensor_by_name('keep_prob:0')\n",
    "        loaded_logits = loaded_graph.get_tensor_by_name('logits:0')\n",
    "        loaded_acc = loaded_graph.get_tensor_by_name('accuracy:0')\n",
    "        \n",
    "        # Get accuracy in batches for memory limitations\n",
    "        test_batch_acc_total = 0\n",
    "        test_batch_count = 0\n",
    "        \n",
    "        for train_feature_batch, train_label_batch in helper.batch_features_labels(test_features, test_labels, batch_size):\n",
    "            test_batch_acc_total += sess.run(\n",
    "                loaded_acc,\n",
    "                feed_dict={loaded_x: train_feature_batch, loaded_y: train_label_batch, loaded_keep_prob: 1.0})\n",
    "            test_batch_count += 1\n",
    "\n",
    "        print('Testing Accuracy: {}\\n'.format(test_batch_acc_total/test_batch_count))\n",
    "\n",
    "        # Print Random Samples\n",
    "        random_test_features, random_test_labels = tuple(zip(*random.sample(list(zip(test_features, test_labels)), n_samples)))\n",
    "        random_test_predictions = sess.run(\n",
    "            tf.nn.top_k(tf.nn.softmax(loaded_logits), top_n_predictions),\n",
    "            feed_dict={loaded_x: random_test_features, loaded_y: random_test_labels, loaded_keep_prob: 1.0})\n",
    "        helper.display_image_predictions(random_test_features, random_test_labels, random_test_predictions)\n",
    "\n",
    "\n",
    "test_model()"
   ]
  },
  {
   "cell_type": "markdown",
   "metadata": {},
   "source": [
    "## Why 50-80% Accuracy?\n",
    "You might be wondering why you can't get an accuracy any higher. First things first, 50% isn't bad for a simple CNN.  Pure guessing would get you 10% accuracy. However, you might notice people are getting scores [well above 80%](http://rodrigob.github.io/are_we_there_yet/build/classification_datasets_results.html#43494641522d3130).  That's because we haven't taught you all there is to know about neural networks. We still need to cover a few more techniques.\n",
    "## Submitting This Project\n",
    "When submitting this project, make sure to run all the cells before saving the notebook.  Save the notebook file as \"dlnd_image_classification.ipynb\" and save it as a HTML file under \"File\" -> \"Download as\".  Include the \"helper.py\" and \"problem_unittests.py\" files in your submission."
   ]
  },
  {
   "cell_type": "code",
   "execution_count": null,
   "metadata": {
    "collapsed": true
   },
   "outputs": [],
   "source": []
  }
 ],
 "metadata": {
  "kernelspec": {
   "display_name": "Python 3",
   "language": "python",
   "name": "python3"
  },
  "language_info": {
   "codemirror_mode": {
    "name": "ipython",
    "version": 3
   },
   "file_extension": ".py",
   "mimetype": "text/x-python",
   "name": "python",
   "nbconvert_exporter": "python",
   "pygments_lexer": "ipython3",
   "version": "3.6.0"
  }
 },
 "nbformat": 4,
 "nbformat_minor": 0
}
