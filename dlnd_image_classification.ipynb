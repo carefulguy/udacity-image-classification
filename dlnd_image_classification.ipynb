{
 "cells": [
  {
   "cell_type": "markdown",
   "metadata": {
    "collapsed": true
   },
   "source": [
    "# Image Classification\n",
    "In this project, you'll classify images from the [CIFAR-10 dataset](https://www.cs.toronto.edu/~kriz/cifar.html).  The dataset consists of airplanes, dogs, cats, and other objects. You'll preprocess the images, then train a convolutional neural network on all the samples. The images need to be normalized and the labels need to be one-hot encoded.  You'll get to apply what you learned and build a convolutional, max pooling, dropout, and fully connected layers.  At the end, you'll get to see your neural network's predictions on the sample images.\n",
    "## Get the Data\n",
    "Run the following cell to download the [CIFAR-10 dataset for python](https://www.cs.toronto.edu/~kriz/cifar-10-python.tar.gz)."
   ]
  },
  {
   "cell_type": "code",
   "execution_count": 4,
   "metadata": {
    "collapsed": false
   },
   "outputs": [
    {
     "name": "stderr",
     "output_type": "stream",
     "text": [
      "CIFAR-10 Dataset: 171MB [01:22, 2.08MB/s]                              \n"
     ]
    },
    {
     "name": "stdout",
     "output_type": "stream",
     "text": [
      "All files found!\n"
     ]
    }
   ],
   "source": [
    "\"\"\"\n",
    "DON'T MODIFY ANYTHING IN THIS CELL THAT IS BELOW THIS LINE\n",
    "\"\"\"\n",
    "from urllib.request import urlretrieve\n",
    "from os.path import isfile, isdir\n",
    "from tqdm import tqdm\n",
    "import problem_unittests as tests\n",
    "import tarfile\n",
    "\n",
    "cifar10_dataset_folder_path = 'cifar-10-batches-py'\n",
    "\n",
    "class DLProgress(tqdm):\n",
    "    last_block = 0\n",
    "\n",
    "    def hook(self, block_num=1, block_size=1, total_size=None):\n",
    "        self.total = total_size\n",
    "        self.update((block_num - self.last_block) * block_size)\n",
    "        self.last_block = block_num\n",
    "\n",
    "if not isfile('cifar-10-python.tar.gz'):\n",
    "    with DLProgress(unit='B', unit_scale=True, miniters=1, desc='CIFAR-10 Dataset') as pbar:\n",
    "        urlretrieve(\n",
    "            'https://www.cs.toronto.edu/~kriz/cifar-10-python.tar.gz',\n",
    "            'cifar-10-python.tar.gz',\n",
    "            pbar.hook)\n",
    "\n",
    "if not isdir(cifar10_dataset_folder_path):\n",
    "    with tarfile.open('cifar-10-python.tar.gz') as tar:\n",
    "        tar.extractall()\n",
    "        tar.close()\n",
    "\n",
    "\n",
    "tests.test_folder_path(cifar10_dataset_folder_path)"
   ]
  },
  {
   "cell_type": "markdown",
   "metadata": {},
   "source": [
    "## Explore the Data\n",
    "The dataset is broken into batches to prevent your machine from running out of memory.  The CIFAR-10 dataset consists of 5 batches, named `data_batch_1`, `data_batch_2`, etc.. Each batch contains the labels and images that are one of the following:\n",
    "* airplane\n",
    "* automobile\n",
    "* bird\n",
    "* cat\n",
    "* deer\n",
    "* dog\n",
    "* frog\n",
    "* horse\n",
    "* ship\n",
    "* truck\n",
    "\n",
    "Understanding a dataset is part of making predictions on the data.  Play around with the code cell below by changing the `batch_id` and `sample_id`. The `batch_id` is the id for a batch (1-5). The `sample_id` is the id for a image and label pair in the batch.\n",
    "\n",
    "Ask yourself \"What are all possible labels?\", \"What is the range of values for the image data?\", \"Are the labels in order or random?\".  Answers to questions like these will help you preprocess the data and end up with better predictions."
   ]
  },
  {
   "cell_type": "code",
   "execution_count": 5,
   "metadata": {
    "collapsed": false
   },
   "outputs": [
    {
     "name": "stdout",
     "output_type": "stream",
     "text": [
      "\n",
      "Stats of batch 1:\n",
      "Samples: 10000\n",
      "Label Counts: {0: 1005, 1: 974, 2: 1032, 3: 1016, 4: 999, 5: 937, 6: 1030, 7: 1001, 8: 1025, 9: 981}\n",
      "First 20 Labels: [6, 9, 9, 4, 1, 1, 2, 7, 8, 3, 4, 7, 7, 2, 9, 9, 9, 3, 2, 6]\n",
      "\n",
      "Example of Image 5:\n",
      "Image - Min Value: 0 Max Value: 252\n",
      "Image - Shape: (32, 32, 3)\n",
      "Label - Label Id: 1 Name: automobile\n"
     ]
    },
    {
     "data": {
      "image/png": "[encoded data removed]",
      "text/plain": [
       "<matplotlib.figure.Figure at 0x7f9995c17a58>"
      ]
     },
     "metadata": {
      "image/png": {
       "height": 250,
       "width": 253
      }
     },
     "output_type": "display_data"
    }
   ],
   "source": [
    "%matplotlib inline\n",
    "%config InlineBackend.figure_format = 'retina'\n",
    "\n",
    "import helper\n",
    "import numpy as np\n",
    "\n",
    "# Explore the dataset\n",
    "batch_id = 1\n",
    "sample_id = 5\n",
    "helper.display_stats(cifar10_dataset_folder_path, batch_id, sample_id)\n",
    "\n",
    "# Possible labels: 10\n",
    "# Range of values: 0-255.  Need to normalize\n",
    "# Labels are randomized.  \n",
    "# Input shape: 32x32x3 -> 3 channels.  Need to combine to 1 channel (grayscale)"
   ]
  },
  {
   "cell_type": "markdown",
   "metadata": {},
   "source": [
    "## Implement Preprocess Functions\n",
    "### Normalize\n",
    "In the cell below, implement the `normalize` function to take in image data, `x`, and return it as a normalized Numpy array. The values should be in the range of 0 to 1, inclusive.  The return object should be the same shape as `x`."
   ]
  },
  {
   "cell_type": "code",
   "execution_count": 8,
   "metadata": {
    "collapsed": false
   },
   "outputs": [
    {
     "name": "stdout",
     "output_type": "stream",
     "text": [
      "Tests Passed\n"
     ]
    }
   ],
   "source": [
    "def normalize(x):\n",
    "    \"\"\"\n",
    "    Normalize a list of sample image data in the range of 0 to 1\n",
    "    : x: List of image data.  The image shape is (32, 32, 3)\n",
    "    : return: Numpy array of normalize data\n",
    "    \"\"\"\n",
    "    \n",
    "    return np.array(x/255.0)\n",
    "\n",
    "\n",
    "\"\"\"\n",
    "DON'T MODIFY ANYTHING IN THIS CELL THAT IS BELOW THIS LINE\n",
    "\"\"\"\n",
    "tests.test_normalize(normalize)"
   ]
  },
  {
   "cell_type": "markdown",
   "metadata": {},
   "source": [
    "### One-hot encode\n",
    "Just like the previous code cell, you'll be implementing a function for preprocessing.  This time, you'll implement the `one_hot_encode` function. The input, `x`, are a list of labels.  Implement the function to return the list of labels as One-Hot encoded Numpy array.  The possible values for labels are 0 to 9. The one-hot encoding function should return the same encoding for each value between each call to `one_hot_encode`.  Make sure to save the map of encodings outside the function.\n",
    "\n",
    "Hint: Don't reinvent the wheel."
   ]
  },
  {
   "cell_type": "code",
   "execution_count": 27,
   "metadata": {
    "collapsed": false
   },
   "outputs": [
    {
     "name": "stdout",
     "output_type": "stream",
     "text": [
      "Tests Passed\n"
     ]
    }
   ],
   "source": [
    "\n",
    "\n",
    "def one_hot_encode(x):\n",
    "    \"\"\"\n",
    "    One hot encode a list of sample labels. Return a one-hot encoded vector for each label.\n",
    "    : x: List of sample Labels\n",
    "    : return: Numpy array of one-hot encoded labels\n",
    "    \"\"\"\n",
    "    one_hot = np.zeros((len(x), 10), dtype=np.int8)\n",
    "    for index, label in enumerate(x) :\n",
    "        one_hot[index][label] = 1\n",
    "    return one_hot\n",
    "\n",
    "\n",
    "\"\"\"\n",
    "DON'T MODIFY ANYTHING IN THIS CELL THAT IS BELOW THIS LINE\n",
    "\"\"\"\n",
    "tests.test_one_hot_encode(one_hot_encode)"
   ]
  },
  {
   "cell_type": "markdown",
   "metadata": {},
   "source": [
    "### Randomize Data\n",
    "As you saw from exploring the data above, the order of the samples are randomized.  It doesn't hurt to randomize it again, but you don't need to for this dataset."
   ]
  },
  {
   "cell_type": "markdown",
   "metadata": {},
   "source": [
    "## Preprocess all the data and save it\n",
    "Running the code cell below will preprocess all the CIFAR-10 data and save it to file. The code below also uses 10% of the training data for validation."
   ]
  },
  {
   "cell_type": "code",
   "execution_count": 28,
   "metadata": {
    "collapsed": false
   },
   "outputs": [],
   "source": [
    "\"\"\"\n",
    "DON'T MODIFY ANYTHING IN THIS CELL\n",
    "\"\"\"\n",
    "# Preprocess Training, Validation, and Testing Data\n",
    "helper.preprocess_and_save_data(cifar10_dataset_folder_path, normalize, one_hot_encode)"
   ]
  },
  {
   "cell_type": "markdown",
   "metadata": {},
   "source": [
    "# Check Point\n",
    "This is your first checkpoint.  If you ever decide to come back to this notebook or have to restart the notebook, you can start from here.  The preprocessed data has been saved to disk."
   ]
  },
  {
   "cell_type": "code",
   "execution_count": 29,
   "metadata": {
    "collapsed": true
   },
   "outputs": [],
   "source": [
    "\"\"\"\n",
    "DON'T MODIFY ANYTHING IN THIS CELL\n",
    "\"\"\"\n",
    "import pickle\n",
    "import problem_unittests as tests\n",
    "import helper\n",
    "\n",
    "# Load the Preprocessed Validation data\n",
    "valid_features, valid_labels = pickle.load(open('preprocess_validation.p', mode='rb'))"
   ]
  },
  {
   "cell_type": "markdown",
   "metadata": {},
   "source": [
    "## Build the network\n",
    "For the neural network, you'll build each layer into a function.  Most of the code you've seen has been outside of functions. To test your code more thoroughly, we require that you put each layer in a function.  This allows us to give you better feedback and test for simple mistakes using our unittests before you submit your project.\n",
    "\n",
    ">**Note:** If you're finding it hard to dedicate enough time for this course each week, we've provided a small shortcut to this part of the project. In the next couple of problems, you'll have the option to use classes from the [TensorFlow Layers](https://www.tensorflow.org/api_docs/python/tf/layers) or [TensorFlow Layers (contrib)](https://www.tensorflow.org/api_guides/python/contrib.layers) packages to build each layer, except the layers you build in the \"Convolutional and Max Pooling Layer\" section.  TF Layers is similar to Keras's and TFLearn's abstraction to layers, so it's easy to pickup.\n",
    "\n",
    ">However, if you would like to get the most out of this course, try to solve all the problems _without_ using anything from the TF Layers packages. You **can** still use classes from other packages that happen to have the same name as ones you find in TF Layers! For example, instead of using the TF Layers version of the `conv2d` class, [tf.layers.conv2d](https://www.tensorflow.org/api_docs/python/tf/layers/conv2d), you would want to use the TF Neural Network version of `conv2d`, [tf.nn.conv2d](https://www.tensorflow.org/api_docs/python/tf/nn/conv2d). \n",
    "\n",
    "Let's begin!\n",
    "\n",
    "### Input\n",
    "The neural network needs to read the image data, one-hot encoded labels, and dropout keep probability. Implement the following functions\n",
    "* Implement `neural_net_image_input`\n",
    " * Return a [TF Placeholder](https://www.tensorflow.org/api_docs/python/tf/placeholder)\n",
    " * Set the shape using `image_shape` with batch size set to `None`.\n",
    " * Name the TensorFlow placeholder \"x\" using the TensorFlow `name` parameter in the [TF Placeholder](https://www.tensorflow.org/api_docs/python/tf/placeholder).\n",
    "* Implement `neural_net_label_input`\n",
    " * Return a [TF Placeholder](https://www.tensorflow.org/api_docs/python/tf/placeholder)\n",
    " * Set the shape using `n_classes` with batch size set to `None`.\n",
    " * Name the TensorFlow placeholder \"y\" using the TensorFlow `name` parameter in the [TF Placeholder](https://www.tensorflow.org/api_docs/python/tf/placeholder).\n",
    "* Implement `neural_net_keep_prob_input`\n",
    " * Return a [TF Placeholder](https://www.tensorflow.org/api_docs/python/tf/placeholder) for dropout keep probability.\n",
    " * Name the TensorFlow placeholder \"keep_prob\" using the TensorFlow `name` parameter in the [TF Placeholder](https://www.tensorflow.org/api_docs/python/tf/placeholder).\n",
    "\n",
    "These names will be used at the end of the project to load your saved model.\n",
    "\n",
    "Note: `None` for shapes in TensorFlow allow for a dynamic size."
   ]
  },
  {
   "cell_type": "code",
   "execution_count": 35,
   "metadata": {
    "collapsed": false
   },
   "outputs": [
    {
     "name": "stdout",
     "output_type": "stream",
     "text": [
      "Image Input Tests Passed.\n",
      "Label Input Tests Passed.\n",
      "Keep Prob Tests Passed.\n"
     ]
    }
   ],
   "source": [
    "import tensorflow as tf\n",
    "\n",
    "def neural_net_image_input(image_shape):\n",
    "    \"\"\"\n",
    "    Return a Tensor for a batch of image input\n",
    "    : image_shape: Shape of the images\n",
    "    : return: Tensor for image input.\n",
    "    \"\"\"\n",
    "    return tf.placeholder(tf.float32, shape=(None, image_shape[0], image_shape[1], image_shape[2]), name=\"x\") \n",
    "\n",
    "\n",
    "def neural_net_label_input(n_classes):\n",
    "    \"\"\"\n",
    "    Return a Tensor for a batch of label input\n",
    "    : n_classes: Number of classes\n",
    "    : return: Tensor for label input.\n",
    "    \"\"\"\n",
    "    # TODO: Implement Function\n",
    "    return tf.placeholder(tf.int8, shape=(None, n_classes), name=\"y\")\n",
    "\n",
    "\n",
    "def neural_net_keep_prob_input():\n",
    "    \"\"\"\n",
    "    Return a Tensor for keep probability\n",
    "    : return: Tensor for keep probability.\n",
    "    \"\"\"\n",
    "    # TODO: Implement Function\n",
    "    return tf.placeholder(tf.float32, name=\"keep_prob\")\n",
    "\n",
    "\n",
    "\"\"\"\n",
    "DON'T MODIFY ANYTHING IN THIS CELL THAT IS BELOW THIS LINE\n",
    "\"\"\"\n",
    "tf.reset_default_graph()\n",
    "tests.test_nn_image_inputs(neural_net_image_input)\n",
    "tests.test_nn_label_inputs(neural_net_label_input)\n",
    "tests.test_nn_keep_prob_inputs(neural_net_keep_prob_input)"
   ]
  },
  {
   "cell_type": "markdown",
   "metadata": {},
   "source": [
    "### Convolution and Max Pooling Layer\n",
    "Convolution layers have a lot of success with images. For this code cell, you should implement the function `conv2d_maxpool` to apply convolution then max pooling:\n",
    "* Create the weight and bias using `conv_ksize`, `conv_num_outputs` and the shape of `x_tensor`.\n",
    "* Apply a convolution to `x_tensor` using weight and `conv_strides`.\n",
    " * We recommend you use same padding, but you're welcome to use any padding.\n",
    "* Add bias\n",
    "* Add a nonlinear activation to the convolution.\n",
    "* Apply Max Pooling using `pool_ksize` and `pool_strides`.\n",
    " * We recommend you use same padding, but you're welcome to use any padding.\n",
    "\n",
    "**Note:** You **can't** use [TensorFlow Layers](https://www.tensorflow.org/api_docs/python/tf/layers) or [TensorFlow Layers (contrib)](https://www.tensorflow.org/api_guides/python/contrib.layers) for **this** layer, but you can still use TensorFlow's [Neural Network](https://www.tensorflow.org/api_docs/python/tf/nn) package. You may still use the shortcut option for all the **other** layers."
   ]
  },
  {
   "cell_type": "code",
   "execution_count": 51,
   "metadata": {
    "collapsed": false
   },
   "outputs": [
    {
     "name": "stdout",
     "output_type": "stream",
     "text": [
      "Tests Passed\n"
     ]
    }
   ],
   "source": [
    "def conv2d_maxpool(x_tensor, conv_num_outputs, conv_ksize, conv_strides, pool_ksize, pool_strides):\n",
    "    \"\"\"\n",
    "    Apply convolution then max pooling to x_tensor\n",
    "    :param x_tensor: TensorFlow Tensor\n",
    "    :param conv_num_outputs: Number of outputs for the convolutional layer\n",
    "    :param conv_ksize: kernal size 2-D Tuple for the convolutional layer\n",
    "    :param conv_strides: Stride 2-D Tuple for convolution\n",
    "    :param pool_ksize: kernal size 2-D Tuple for pool\n",
    "    :param pool_strides: Stride 2-D Tuple for pool\n",
    "    : return: A tensor that represents convolution and max pooling of x_tensor\n",
    "    \"\"\"\n",
    "    # Input image shape: [None, 32, 32, 5] -> variable batch, 32x32 image, 5 channels\n",
    "    # kernet / Filter size: (2,2)\n",
    "    # Output depth: conv_num_outputs = 10\n",
    "    shape = x_tensor.get_shape().as_list()\n",
    "    weights = tf.Variable(tf.truncated_normal((conv_ksize[0], conv_ksize[1], shape[3], conv_num_outputs)))\n",
    "    bias = tf.Variable(tf.zeros(conv_num_outputs))\n",
    "    \n",
    "    # Stride of 1 batch, conv_stride, 1 channel\n",
    "    # Here conv_stride: 4x4\n",
    "    stride = [1, conv_strides[0], conv_strides[0], 1]\n",
    "    padding = 'SAME'\n",
    "    \n",
    "    # Build convnet with weights, bias\n",
    "    conv = tf.nn.conv2d(x_tensor, weights, stride, padding)\n",
    "    conv = tf.nn.bias_add(conv, bias)\n",
    "    \n",
    "    # Activation function - ReLU\n",
    "    conv = tf.nn.relu(conv)\n",
    "    \n",
    "    # Add max pooling\n",
    "    pool_shape = [1, pool_ksize[0], pool_ksize[1], 1]\n",
    "    pool_stride = [1, pool_strides[0], pool_strides[1], 1]\n",
    "    conv = tf.nn.max_pool(conv, pool_shape, pool_stride, padding='SAME')\n",
    "    return conv\n",
    "\n",
    "\n",
    "\"\"\"\n",
    "DON'T MODIFY ANYTHING IN THIS CELL THAT IS BELOW THIS LINE\n",
    "\"\"\"\n",
    "tests.test_con_pool(conv2d_maxpool)"
   ]
  },
  {
   "cell_type": "markdown",
   "metadata": {},
   "source": [
    "### Flatten Layer\n",
    "Implement the `flatten` function to change the dimension of `x_tensor` from a 4-D tensor to a 2-D tensor.  The output should be the shape (*Batch Size*, *Flattened Image Size*). Shortcut option: you can use classes from the [TensorFlow Layers](https://www.tensorflow.org/api_docs/python/tf/layers) or [TensorFlow Layers (contrib)](https://www.tensorflow.org/api_guides/python/contrib.layers) packages for this layer. For more of a challenge, only use other TensorFlow packages."
   ]
  },
  {
   "cell_type": "code",
   "execution_count": 58,
   "metadata": {
    "collapsed": false
   },
   "outputs": [
    {
     "name": "stdout",
     "output_type": "stream",
     "text": [
      "Tests Passed\n"
     ]
    }
   ],
   "source": [
    "def flatten(x_tensor):\n",
    "    \"\"\"\n",
    "    Flatten x_tensor to (Batch Size, Flattened Image Size)\n",
    "    : x_tensor: A tensor of size (Batch Size, ...), where ... are the image dimensions.\n",
    "    : return: A tensor of size (Batch Size, Flattened Image Size).\n",
    "    \"\"\"\n",
    "    shape = x_tensor.get_shape().as_list()\n",
    "    flat_size = shape[1]*shape[2]*shape[3]\n",
    "    return tf.reshape(x_tensor, [-1, flat_size])\n",
    "\n",
    "\n",
    "\"\"\"\n",
    "DON'T MODIFY ANYTHING IN THIS CELL THAT IS BELOW THIS LINE\n",
    "\"\"\"\n",
    "tests.test_flatten(flatten)"
   ]
  },
  {
   "cell_type": "markdown",
   "metadata": {},
   "source": [
    "### Fully-Connected Layer\n",
    "Implement the `fully_conn` function to apply a fully connected layer to `x_tensor` with the shape (*Batch Size*, *num_outputs*). Shortcut option: you can use classes from the [TensorFlow Layers](https://www.tensorflow.org/api_docs/python/tf/layers) or [TensorFlow Layers (contrib)](https://www.tensorflow.org/api_guides/python/contrib.layers) packages for this layer. For more of a challenge, only use other TensorFlow packages."
   ]
  },
  {
   "cell_type": "code",
   "execution_count": 74,
   "metadata": {
    "collapsed": false
   },
   "outputs": [
    {
     "name": "stdout",
     "output_type": "stream",
     "text": [
      "Tests Passed\n"
     ]
    }
   ],
   "source": [
    "def fully_conn(x_tensor, num_outputs):\n",
    "    \"\"\"\n",
    "    Apply a fully connected layer to x_tensor using weight and bias\n",
    "    : x_tensor: A 2-D tensor where the first dimension is batch size.\n",
    "    : num_outputs: The number of output that the new tensor should be.\n",
    "    : return: A 2-D tensor where the second dimension is num_outputs.\n",
    "    \"\"\"\n",
    "    #Input nodes: 128\n",
    "    #Hidden layer nodes: 40\n",
    "    weights = tf.Variable(tf.truncated_normal((x_tensor.get_shape().as_list()[1], num_outputs)))\n",
    "    bias = tf.Variable(tf.zeros(num_outputs))\n",
    "    fc = tf.add(tf.matmul(x_tensor, weights), bias)\n",
    "    return fc\n",
    "\n",
    "\n",
    "\"\"\"\n",
    "DON'T MODIFY ANYTHING IN THIS CELL THAT IS BELOW THIS LINE\n",
    "\"\"\"\n",
    "tests.test_fully_conn(fully_conn)"
   ]
  },
  {
   "cell_type": "markdown",
   "metadata": {},
   "source": [
    "### Output Layer\n",
    "Implement the `output` function to apply a fully connected layer to `x_tensor` with the shape (*Batch Size*, *num_outputs*). Shortcut option: you can use classes from the [TensorFlow Layers](https://www.tensorflow.org/api_docs/python/tf/layers) or [TensorFlow Layers (contrib)](https://www.tensorflow.org/api_guides/python/contrib.layers) packages for this layer. For more of a challenge, only use other TensorFlow packages.\n",
    "\n",
    "**Note:** Activation, softmax, or cross entropy should **not** be applied to this."
   ]
  },
  {
   "cell_type": "code",
   "execution_count": 73,
   "metadata": {
    "collapsed": false
   },
   "outputs": [
    {
     "name": "stdout",
     "output_type": "stream",
     "text": [
      "Tests Passed\n"
     ]
    }
   ],
   "source": [
    "def output(x_tensor, num_outputs):\n",
    "    \"\"\"\n",
    "    Apply a output layer to x_tensor using weight and bias\n",
    "    : x_tensor: A 2-D tensor where the first dimension is batch size.\n",
    "    : num_outputs: The number of output that the new tensor should be.\n",
    "    : return: A 2-D tensor where the second dimension is num_outputs.\n",
    "    \"\"\"\n",
    "    #How is this different than the fully connected layer function?\n",
    "    #Input nodes: 128\n",
    "    #Output nodes: 40\n",
    "    weights = tf.Variable(tf.truncated_normal((x_tensor.get_shape().as_list()[1], num_outputs)))\n",
    "    bias = tf.Variable(tf.zeros(num_outputs))\n",
    "    output = tf.add(tf.matmul(x_tensor, weights), bias)\n",
    "    return output\n",
    "\n",
    "\n",
    "\"\"\"\n",
    "DON'T MODIFY ANYTHING IN THIS CELL THAT IS BELOW THIS LINE\n",
    "\"\"\"\n",
    "tests.test_output(output)"
   ]
  },
  {
   "cell_type": "markdown",
   "metadata": {},
   "source": [
    "### Create Convolutional Model\n",
    "Implement the function `conv_net` to create a convolutional neural network model. The function takes in a batch of images, `x`, and outputs logits.  Use the layers you created above to create this model:\n",
    "\n",
    "* Apply 1, 2, or 3 Convolution and Max Pool layers\n",
    "* Apply a Flatten Layer\n",
    "* Apply 1, 2, or 3 Fully Connected Layers\n",
    "* Apply an Output Layer\n",
    "* Return the output\n",
    "* Apply [TensorFlow's Dropout](https://www.tensorflow.org/api_docs/python/tf/nn/dropout) to one or more layers in the model using `keep_prob`. "
   ]
  },
  {
   "cell_type": "code",
   "execution_count": 179,
   "metadata": {
    "collapsed": false
   },
   "outputs": [
    {
     "name": "stdout",
     "output_type": "stream",
     "text": [
      "Neural Network Built!\n"
     ]
    }
   ],
   "source": [
    "def conv_net(x, keep_prob):\n",
    "    \"\"\"\n",
    "    Create a convolutional neural network model\n",
    "    : x: Placeholder tensor that holds image data.\n",
    "    : keep_prob: Placeholder tensor that hold dropout keep probability.\n",
    "    : return: Tensor that represents logits\n",
    "    \"\"\"\n",
    "        #    Play around with different number of outputs, kernel size and stride\n",
    "    # Function Definition from Above:\n",
    "    #    conv2d_maxpool(x_tensor, conv_num_outputs, conv_ksize, conv_strides, pool_ksize, pool_strides)\n",
    "\n",
    "    # Acc:40%: Epoch 10, 2x CNN (150+pool, 200+pool), 1x FC of 200     \n",
    "    #x_tensor = conv2d_maxpool(x, 150, (2,2), (2,2), (2,2), (2,2))\n",
    "    #x_tensor = conv2d_maxpool(x, 400, (2,2), (2,2), (2,2), (2,2))\n",
    "\n",
    "    # Acc:38.5% (max) Epoch 10, 3x CNN (20+pool,100, 200), 1x FC of 200\n",
    "    #x_tensor = conv2d_maxpool(x, 20, (2,2), (2,2), (2,2), (2,2))\n",
    "    #x_tensor = conv2d_maxpool(x, 100, (2,2), (2,2), (1,1), (1,1))\n",
    "    #x_tensor = conv2d_maxpool(x, 200, (2,2), (2,2), (1,1), (1,1))\n",
    "\n",
    "    # Acc:36% (max) Epoch 10, 2x CNN (100+pool,200+pool), 2x FC of 200, 100\n",
    "    #x_tensor = conv2d_maxpool(x, 100, (2,2), (2,2), (2,2), (2,2))\n",
    "    #x_tensor = conv2d_maxpool(x, 200, (2,2), (2,2), (2,2), (2,2))\n",
    "   \n",
    "    # Tried with initial kernel of 4x4, much worst.\n",
    "\n",
    "    # 2x CNN (200+pool, 400+pool), 1x FC of 300\n",
    "    #keep_prob: 0.5\n",
    "    #Epoch  1, CIFAR-10 Batch 1:  Loss:   939.4917 Validation Accuracy: 0.221400\n",
    "    #Epoch  2, CIFAR-10 Batch 1:  Loss:   661.8530 Validation Accuracy: 0.293600\n",
    "    #Epoch  3, CIFAR-10 Batch 1:  Loss:   565.4672 Validation Accuracy: 0.312000\n",
    "    #Epoch  4, CIFAR-10 Batch 1:  Loss:   473.6833 Validation Accuracy: 0.335400\n",
    "    #Epoch  5, CIFAR-10 Batch 1:  Loss:   346.2325 Validation Accuracy: 0.357000\n",
    "    #Epoch  6, CIFAR-10 Batch 1:  Loss:   319.0621 Validation Accuracy: 0.394400\n",
    "    #Epoch  7, CIFAR-10 Batch 1:  Loss:   223.0719 Validation Accuracy: 0.406600\n",
    "    #Epoch  8, CIFAR-10 Batch 1:  Loss:   196.1765 Validation Accuracy: 0.404000\n",
    "    #Epoch  9, CIFAR-10 Batch 1:  Loss:   194.6532 Validation Accuracy: 0.413000\n",
    "    #Epoch 10, CIFAR-10 Batch 1:  Loss:   195.3998 Validation Accuracy: 0.433400\n",
    "    #Epoch 11, CIFAR-10 Batch 1:  Loss:   166.4086 Validation Accuracy: 0.433200\n",
    "    #Epoch 12, CIFAR-10 Batch 1:  Loss:   145.1785 Validation Accuracy: 0.441000\n",
    "    #Epoch 13, CIFAR-10 Batch 1:  Loss:   114.0388 Validation Accuracy: 0.476000\n",
    "    #Epoch 14, CIFAR-10 Batch 1:  Loss:   117.0516 Validation Accuracy: 0.469000\n",
    "    #Epoch 15, CIFAR-10 Batch 1:  Loss:    85.2701 Validation Accuracy: 0.478800\n",
    "    #Epoch 16, CIFAR-10 Batch 1:  Loss:    75.7906 Validation Accuracy: 0.479200\n",
    "    # keep_prob: 0.6\n",
    "    #Epoch  1, CIFAR-10 Batch 1:  Loss:  1257.8625 Validation Accuracy: 0.253000\n",
    "    #Epoch  2, CIFAR-10 Batch 1:  Loss:   896.9197 Validation Accuracy: 0.278600\n",
    "    #Epoch  3, CIFAR-10 Batch 1:  Loss:   694.7443 Validation Accuracy: 0.320000\n",
    "    #Epoch  4, CIFAR-10 Batch 1:  Loss:   635.9755 Validation Accuracy: 0.340200\n",
    "    #Epoch  5, CIFAR-10 Batch 1:  Loss:   497.6085 Validation Accuracy: 0.348000\n",
    "    #Epoch  6, CIFAR-10 Batch 1:  Loss:   398.6732 Validation Accuracy: 0.368800\n",
    "    #Epoch  7, CIFAR-10 Batch 1:  Loss:   329.5323 Validation Accuracy: 0.387600\n",
    "    # keep_prob: 0.4\n",
    "    #Epoch  1, CIFAR-10 Batch 1:  Loss:   963.1008 Validation Accuracy: 0.242400\n",
    "    #Epoch  2, CIFAR-10 Batch 1:  Loss:   711.0648 Validation Accuracy: 0.292000\n",
    "    #Epoch  3, CIFAR-10 Batch 1:  Loss:   592.6564 Validation Accuracy: 0.317600\n",
    "    #Epoch  4, CIFAR-10 Batch 1:  Loss:   471.2741 Validation Accuracy: 0.340800\n",
    "    #Epoch  5, CIFAR-10 Batch 1:  Loss:   383.6352 Validation Accuracy: 0.363000\n",
    "    #Epoch  6, CIFAR-10 Batch 1:  Loss:   378.5806 Validation Accuracy: 0.369600\n",
    "    #Epoch  7, CIFAR-10 Batch 1:  Loss:   280.6205 Validation Accuracy: 0.392000\n",
    "    #Epoch  8, CIFAR-10 Batch 1:  Loss:   204.7084 Validation Accuracy: 0.416800\n",
    "    #Epoch  9, CIFAR-10 Batch 1:  Loss:   211.0108 Validation Accuracy: 0.433600\n",
    "    #Epoch 10, CIFAR-10 Batch 1:  Loss:   241.1284 Validation Accuracy: 0.417000\n",
    "    #Epoch 11, CIFAR-10 Batch 1:  Loss:   163.1044 Validation Accuracy: 0.438000\n",
    "    #Epoch 12, CIFAR-10 Batch 1:  Loss:   170.7496 Validation Accuracy: 0.449800\n",
    "    #Epoch 13, CIFAR-10 Batch 1:  Loss:   186.3764 Validation Accuracy: 0.448000\n",
    "    #Epoch 14, CIFAR-10 Batch 1:  Loss:   132.2992 Validation Accuracy: 0.445200\n",
    "    #Epoch 15, CIFAR-10 Batch 1:  Loss:   131.1583 Validation Accuracy: 0.452400\n",
    "    #Epoch 16, CIFAR-10 Batch 1:  Loss:   114.3883 Validation Accuracy: 0.467000\n",
    "    #Epoch 17, CIFAR-10 Batch 1:  Loss:    94.2328 Validation Accuracy: 0.482200\n",
    "    #Epoch 18, CIFAR-10 Batch 1:  Loss:    80.6921 Validation Accuracy: 0.458200\n",
    "    #Epoch 19, CIFAR-10 Batch 1:  Loss:    94.2179 Validation Accuracy: 0.485800\n",
    "    #Epoch 20, CIFAR-10 Batch 1:  Loss:    80.8469 Validation Accuracy: 0.477400\n",
    "    \n",
    "    \n",
    "    # 2x CNN (220+pool, 420+pool), 1x FC of 320\n",
    "    x_tensor = conv2d_maxpool(x, 220, (2,2), (2,2), (2,2), (2,2))\n",
    "    x_tensor = conv2d_maxpool(x, 420, (2,2), (2,2), (2,2), (2,2))\n",
    " \n",
    "    # Function Definition from Above:\n",
    "    x_tensor = flatten(x_tensor)\n",
    "    \n",
    "    #    Play around with different number of outputs \n",
    "    # Function Definition from Above:\n",
    "    fc = fully_conn(x_tensor, 320)\n",
    "    \n",
    "    #Apply dropout\n",
    "    fc = tf.nn.dropout(fc, keep_prob)\n",
    "    \n",
    "    #    Set this to the number of classes\n",
    "    # Function Definition from Above:\n",
    "    logits = output(fc, 10)\n",
    "    \n",
    "    return logits\n",
    "\n",
    "\n",
    "\"\"\"\n",
    "DON'T MODIFY ANYTHING IN THIS CELL THAT IS BELOW THIS LINE\n",
    "\"\"\"\n",
    "\n",
    "##############################\n",
    "## Build the Neural Network ##\n",
    "##############################\n",
    "\n",
    "# Remove previous weights, bias, inputs, etc..\n",
    "tf.reset_default_graph()\n",
    "\n",
    "# Inputs\n",
    "x = neural_net_image_input((32, 32, 3))\n",
    "y = neural_net_label_input(10)\n",
    "keep_prob = neural_net_keep_prob_input()\n",
    "\n",
    "# Model\n",
    "logits = conv_net(x, keep_prob)\n",
    "\n",
    "# Name logits Tensor, so that is can be loaded from disk after training\n",
    "logits = tf.identity(logits, name='logits')\n",
    "\n",
    "# Loss and Optimizer\n",
    "cost = tf.reduce_mean(tf.nn.softmax_cross_entropy_with_logits(logits=logits, labels=y))\n",
    "optimizer = tf.train.AdamOptimizer().minimize(cost)\n",
    "\n",
    "# Accuracy\n",
    "correct_pred = tf.equal(tf.argmax(logits, 1), tf.argmax(y, 1))\n",
    "accuracy = tf.reduce_mean(tf.cast(correct_pred, tf.float32), name='accuracy')\n",
    "\n",
    "tests.test_conv_net(conv_net)"
   ]
  },
  {
   "cell_type": "markdown",
   "metadata": {},
   "source": [
    "## Train the Neural Network\n",
    "### Single Optimization\n",
    "Implement the function `train_neural_network` to do a single optimization.  The optimization should use `optimizer` to optimize in `session` with a `feed_dict` of the following:\n",
    "* `x` for image input\n",
    "* `y` for labels\n",
    "* `keep_prob` for keep probability for dropout\n",
    "\n",
    "This function will be called for each batch, so `tf.global_variables_initializer()` has already been called.\n",
    "\n",
    "Note: Nothing needs to be returned. This function is only optimizing the neural network."
   ]
  },
  {
   "cell_type": "code",
   "execution_count": 155,
   "metadata": {
    "collapsed": false
   },
   "outputs": [
    {
     "name": "stdout",
     "output_type": "stream",
     "text": [
      "Tests Passed\n"
     ]
    }
   ],
   "source": [
    "def train_neural_network(session, optimizer, keep_probability, feature_batch, label_batch):\n",
    "    \"\"\"\n",
    "    Optimize the session on a batch of images and labels\n",
    "    : session: Current TensorFlow session\n",
    "    : optimizer: TensorFlow optimizer function\n",
    "    : keep_probability: keep probability\n",
    "    : feature_batch: Batch of Numpy image data\n",
    "    : label_batch: Batch of Numpy label data\n",
    "    \"\"\"\n",
    "    # TODO: Implement Function\n",
    "    session.run(optimizer, feed_dict={x: feature_batch, y: label_batch, keep_prob: keep_probability})\n",
    "    pass\n",
    "\n",
    "\n",
    "\"\"\"\n",
    "DON'T MODIFY ANYTHING IN THIS CELL THAT IS BELOW THIS LINE\n",
    "\"\"\"\n",
    "tests.test_train_nn(train_neural_network)"
   ]
  },
  {
   "cell_type": "markdown",
   "metadata": {},
   "source": [
    "### Show Stats\n",
    "Implement the function `print_stats` to print loss and validation accuracy.  Use the global variables `valid_features` and `valid_labels` to calculate validation accuracy.  Use a keep probability of `1.0` to calculate the loss and validation accuracy."
   ]
  },
  {
   "cell_type": "code",
   "execution_count": 156,
   "metadata": {
    "collapsed": false
   },
   "outputs": [],
   "source": [
    "def print_stats(session, feature_batch, label_batch, cost, accuracy):\n",
    "    \"\"\"\n",
    "    Print information about loss and validation accuracy\n",
    "    : session: Current TensorFlow session\n",
    "    : feature_batch: Batch of Numpy image data\n",
    "    : label_batch: Batch of Numpy label data\n",
    "    : cost: TensorFlow cost function\n",
    "    : accuracy: TensorFlow accuracy function\n",
    "    \"\"\"\n",
    "    # Calculate loss and accuracy\n",
    "    loss = session.run(cost, feed_dict={x: feature_batch, y: label_batch, keep_prob: 1.0})\n",
    "    valid_acc = session.run(accuracy, feed_dict={x: valid_features, y: valid_labels, keep_prob: 1.0})\n",
    "\n",
    "    print('Loss: {:>10.4f} Validation Accuracy: {:.6f}'.format(loss, valid_acc))"
   ]
  },
  {
   "cell_type": "markdown",
   "metadata": {},
   "source": [
    "### Hyperparameters\n",
    "Tune the following parameters:\n",
    "* Set `epochs` to the number of iterations until the network stops learning or start overfitting\n",
    "* Set `batch_size` to the highest number that your machine has memory for.  Most people set them to common sizes of memory:\n",
    " * 64\n",
    " * 128\n",
    " * 256\n",
    " * ...\n",
    "* Set `keep_probability` to the probability of keeping a node using dropout"
   ]
  },
  {
   "cell_type": "code",
   "execution_count": 180,
   "metadata": {
    "collapsed": true
   },
   "outputs": [],
   "source": [
    "# TODO: Tune Parameters\n",
    "epochs = 20\n",
    "batch_size = 256\n",
    "keep_probability = 0.5"
   ]
  },
  {
   "cell_type": "markdown",
   "metadata": {},
   "source": [
    "### Train on a Single CIFAR-10 Batch\n",
    "Instead of training the neural network on all the CIFAR-10 batches of data, let's use a single batch. This should save time while you iterate on the model to get a better accuracy.  Once the final validation accuracy is 50% or greater, run the model on all the data in the next section."
   ]
  },
  {
   "cell_type": "code",
   "execution_count": 181,
   "metadata": {
    "collapsed": false
   },
   "outputs": [
    {
     "name": "stdout",
     "output_type": "stream",
     "text": [
      "Checking the Training on a Single Batch...\n",
      "Epoch  1, CIFAR-10 Batch 1:  Loss:   825.4681 Validation Accuracy: 0.239400\n",
      "Epoch  2, CIFAR-10 Batch 1:  Loss:   633.3278 Validation Accuracy: 0.300600\n",
      "Epoch  3, CIFAR-10 Batch 1:  Loss:   487.9038 Validation Accuracy: 0.337400\n",
      "Epoch  4, CIFAR-10 Batch 1:  Loss:   376.6443 Validation Accuracy: 0.361600\n",
      "Epoch  5, CIFAR-10 Batch 1:  Loss:   325.2770 Validation Accuracy: 0.359200\n",
      "Epoch  6, CIFAR-10 Batch 1:  Loss:   298.3320 Validation Accuracy: 0.385200\n",
      "Epoch  7, CIFAR-10 Batch 1:  Loss:   235.2847 Validation Accuracy: 0.408000\n",
      "Epoch  8, CIFAR-10 Batch 1:  Loss:   238.0722 Validation Accuracy: 0.419600\n",
      "Epoch  9, CIFAR-10 Batch 1:  Loss:   206.9508 Validation Accuracy: 0.429200\n",
      "Epoch 10, CIFAR-10 Batch 1:  Loss:   191.1827 Validation Accuracy: 0.427200\n",
      "Epoch 11, CIFAR-10 Batch 1:  Loss:   124.7811 Validation Accuracy: 0.448000\n",
      "Epoch 12, CIFAR-10 Batch 1:  Loss:    99.0444 Validation Accuracy: 0.451800\n",
      "Epoch 13, CIFAR-10 Batch 1:  Loss:   142.6853 Validation Accuracy: 0.459600\n",
      "Epoch 14, CIFAR-10 Batch 1:  Loss:   114.8327 Validation Accuracy: 0.434400\n",
      "Epoch 15, CIFAR-10 Batch 1:  Loss:    93.9335 Validation Accuracy: 0.476800\n",
      "Epoch 16, CIFAR-10 Batch 1:  Loss:    70.0645 Validation Accuracy: 0.485200\n",
      "Epoch 17, CIFAR-10 Batch 1:  Loss:    76.1816 Validation Accuracy: 0.483000\n",
      "Epoch 18, CIFAR-10 Batch 1:  Loss:    65.0294 Validation Accuracy: 0.467200\n",
      "Epoch 19, CIFAR-10 Batch 1:  Loss:    54.6088 Validation Accuracy: 0.488000\n",
      "Epoch 20, CIFAR-10 Batch 1:  Loss:    59.6636 Validation Accuracy: 0.494600\n"
     ]
    }
   ],
   "source": [
    "\"\"\"\n",
    "DON'T MODIFY ANYTHING IN THIS CELL\n",
    "\"\"\"\n",
    "print('Checking the Training on a Single Batch...')\n",
    "with tf.Session() as sess:\n",
    "    # Initializing the variables\n",
    "    sess.run(tf.global_variables_initializer())\n",
    "    \n",
    "    # Training cycle\n",
    "    for epoch in range(epochs):\n",
    "        batch_i = 1\n",
    "        for batch_features, batch_labels in helper.load_preprocess_training_batch(batch_i, batch_size):\n",
    "            train_neural_network(sess, optimizer, keep_probability, batch_features, batch_labels)\n",
    "        print('Epoch {:>2}, CIFAR-10 Batch {}:  '.format(epoch + 1, batch_i), end='')\n",
    "        print_stats(sess, batch_features, batch_labels, cost, accuracy)"
   ]
  },
  {
   "cell_type": "markdown",
   "metadata": {},
   "source": [
    "### Fully Train the Model\n",
    "Now that you got a good accuracy with a single CIFAR-10 batch, try it with all five batches."
   ]
  },
  {
   "cell_type": "code",
   "execution_count": 182,
   "metadata": {
    "collapsed": false
   },
   "outputs": [
    {
     "name": "stdout",
     "output_type": "stream",
     "text": [
      "Training...\n",
      "Epoch  1, CIFAR-10 Batch 1:  Loss:   943.0056 Validation Accuracy: 0.211200\n",
      "Epoch  1, CIFAR-10 Batch 2:  Loss:   698.5622 Validation Accuracy: 0.290200\n",
      "Epoch  1, CIFAR-10 Batch 3:  Loss:   494.0530 Validation Accuracy: 0.324000\n",
      "Epoch  1, CIFAR-10 Batch 4:  Loss:   318.0402 Validation Accuracy: 0.347200\n",
      "Epoch  1, CIFAR-10 Batch 5:  Loss:   423.7760 Validation Accuracy: 0.361400\n",
      "Epoch  2, CIFAR-10 Batch 1:  Loss:   481.8504 Validation Accuracy: 0.379600\n",
      "Epoch  2, CIFAR-10 Batch 2:  Loss:   379.4032 Validation Accuracy: 0.399400\n",
      "Epoch  2, CIFAR-10 Batch 3:  Loss:   245.7409 Validation Accuracy: 0.407400\n",
      "Epoch  2, CIFAR-10 Batch 4:  Loss:   275.4724 Validation Accuracy: 0.413400\n",
      "Epoch  2, CIFAR-10 Batch 5:  Loss:   324.5421 Validation Accuracy: 0.410200\n",
      "Epoch  3, CIFAR-10 Batch 1:  Loss:   375.3762 Validation Accuracy: 0.440200\n",
      "Epoch  3, CIFAR-10 Batch 2:  Loss:   227.4067 Validation Accuracy: 0.463200\n",
      "Epoch  3, CIFAR-10 Batch 3:  Loss:   184.4418 Validation Accuracy: 0.458000\n",
      "Epoch  3, CIFAR-10 Batch 4:  Loss:   255.0550 Validation Accuracy: 0.457400\n",
      "Epoch  3, CIFAR-10 Batch 5:  Loss:   177.1974 Validation Accuracy: 0.463200\n",
      "Epoch  4, CIFAR-10 Batch 1:  Loss:   256.8582 Validation Accuracy: 0.478600\n",
      "Epoch  4, CIFAR-10 Batch 2:  Loss:   192.1421 Validation Accuracy: 0.484400\n",
      "Epoch  4, CIFAR-10 Batch 3:  Loss:   119.7208 Validation Accuracy: 0.492400\n",
      "Epoch  4, CIFAR-10 Batch 4:  Loss:   186.9988 Validation Accuracy: 0.481600\n",
      "Epoch  4, CIFAR-10 Batch 5:  Loss:   178.9806 Validation Accuracy: 0.462200\n",
      "Epoch  5, CIFAR-10 Batch 1:  Loss:   215.7713 Validation Accuracy: 0.508000\n",
      "Epoch  5, CIFAR-10 Batch 2:  Loss:   155.2457 Validation Accuracy: 0.497000\n",
      "Epoch  5, CIFAR-10 Batch 3:  Loss:   106.4948 Validation Accuracy: 0.503200\n",
      "Epoch  5, CIFAR-10 Batch 4:  Loss:   163.5355 Validation Accuracy: 0.507600\n",
      "Epoch  5, CIFAR-10 Batch 5:  Loss:    94.5005 Validation Accuracy: 0.518600\n",
      "Epoch  6, CIFAR-10 Batch 1:  Loss:   162.6455 Validation Accuracy: 0.524200\n",
      "Epoch  6, CIFAR-10 Batch 2:  Loss:    89.7910 Validation Accuracy: 0.505600\n",
      "Epoch  6, CIFAR-10 Batch 3:  Loss:    73.6053 Validation Accuracy: 0.492600\n",
      "Epoch  6, CIFAR-10 Batch 4:  Loss:   144.7364 Validation Accuracy: 0.516800\n",
      "Epoch  6, CIFAR-10 Batch 5:  Loss:    99.9494 Validation Accuracy: 0.516800\n",
      "Epoch  7, CIFAR-10 Batch 1:  Loss:   150.4568 Validation Accuracy: 0.527400\n",
      "Epoch  7, CIFAR-10 Batch 2:  Loss:    64.8735 Validation Accuracy: 0.526400\n",
      "Epoch  7, CIFAR-10 Batch 3:  Loss:    59.0052 Validation Accuracy: 0.530600\n",
      "Epoch  7, CIFAR-10 Batch 4:  Loss:   132.0829 Validation Accuracy: 0.518600\n",
      "Epoch  7, CIFAR-10 Batch 5:  Loss:    78.1689 Validation Accuracy: 0.524400\n",
      "Epoch  8, CIFAR-10 Batch 1:  Loss:   107.8829 Validation Accuracy: 0.542800\n",
      "Epoch  8, CIFAR-10 Batch 2:  Loss:    47.6833 Validation Accuracy: 0.545000\n",
      "Epoch  8, CIFAR-10 Batch 3:  Loss:    52.6641 Validation Accuracy: 0.526600\n",
      "Epoch  8, CIFAR-10 Batch 4:  Loss:    83.0795 Validation Accuracy: 0.547400\n",
      "Epoch  8, CIFAR-10 Batch 5:  Loss:    52.1295 Validation Accuracy: 0.537600\n",
      "Epoch  9, CIFAR-10 Batch 1:  Loss:    81.7956 Validation Accuracy: 0.548400\n",
      "Epoch  9, CIFAR-10 Batch 2:  Loss:    51.9520 Validation Accuracy: 0.536800\n",
      "Epoch  9, CIFAR-10 Batch 3:  Loss:    37.6282 Validation Accuracy: 0.550400\n",
      "Epoch  9, CIFAR-10 Batch 4:  Loss:    89.9641 Validation Accuracy: 0.543600\n",
      "Epoch  9, CIFAR-10 Batch 5:  Loss:    42.7534 Validation Accuracy: 0.550600\n",
      "Epoch 10, CIFAR-10 Batch 1:  Loss:    80.9795 Validation Accuracy: 0.556600\n",
      "Epoch 10, CIFAR-10 Batch 2:  Loss:    39.9798 Validation Accuracy: 0.553000\n",
      "Epoch 10, CIFAR-10 Batch 3:  Loss:    23.8069 Validation Accuracy: 0.553800\n",
      "Epoch 10, CIFAR-10 Batch 4:  Loss:    81.8983 Validation Accuracy: 0.557600\n",
      "Epoch 10, CIFAR-10 Batch 5:  Loss:    32.7670 Validation Accuracy: 0.546200\n",
      "Epoch 11, CIFAR-10 Batch 1:  Loss:    59.1689 Validation Accuracy: 0.552400\n",
      "Epoch 11, CIFAR-10 Batch 2:  Loss:    24.8583 Validation Accuracy: 0.552800\n",
      "Epoch 11, CIFAR-10 Batch 3:  Loss:    25.1677 Validation Accuracy: 0.555000\n",
      "Epoch 11, CIFAR-10 Batch 4:  Loss:    78.1256 Validation Accuracy: 0.538200\n",
      "Epoch 11, CIFAR-10 Batch 5:  Loss:    32.9399 Validation Accuracy: 0.547600\n",
      "Epoch 12, CIFAR-10 Batch 1:  Loss:    48.3599 Validation Accuracy: 0.563400\n",
      "Epoch 12, CIFAR-10 Batch 2:  Loss:    24.5574 Validation Accuracy: 0.547000\n",
      "Epoch 12, CIFAR-10 Batch 3:  Loss:    12.2893 Validation Accuracy: 0.568000\n",
      "Epoch 12, CIFAR-10 Batch 4:  Loss:    65.9950 Validation Accuracy: 0.558000\n",
      "Epoch 12, CIFAR-10 Batch 5:  Loss:    25.4855 Validation Accuracy: 0.565800\n",
      "Epoch 13, CIFAR-10 Batch 1:  Loss:    48.3439 Validation Accuracy: 0.570800\n",
      "Epoch 13, CIFAR-10 Batch 2:  Loss:     9.4108 Validation Accuracy: 0.558200\n",
      "Epoch 13, CIFAR-10 Batch 3:  Loss:    30.2733 Validation Accuracy: 0.567600\n",
      "Epoch 13, CIFAR-10 Batch 4:  Loss:    57.0044 Validation Accuracy: 0.567400\n",
      "Epoch 13, CIFAR-10 Batch 5:  Loss:    23.0684 Validation Accuracy: 0.562200\n",
      "Epoch 14, CIFAR-10 Batch 1:  Loss:    56.0083 Validation Accuracy: 0.570200\n",
      "Epoch 14, CIFAR-10 Batch 2:  Loss:    10.7618 Validation Accuracy: 0.573400\n",
      "Epoch 14, CIFAR-10 Batch 3:  Loss:    21.0711 Validation Accuracy: 0.564600\n",
      "Epoch 14, CIFAR-10 Batch 4:  Loss:    32.6388 Validation Accuracy: 0.570600\n",
      "Epoch 14, CIFAR-10 Batch 5:  Loss:    17.8607 Validation Accuracy: 0.569200\n",
      "Epoch 15, CIFAR-10 Batch 1:  Loss:    41.1594 Validation Accuracy: 0.573800\n",
      "Epoch 15, CIFAR-10 Batch 2:  Loss:     5.3007 Validation Accuracy: 0.566400\n",
      "Epoch 15, CIFAR-10 Batch 3:  Loss:     9.5643 Validation Accuracy: 0.570000\n",
      "Epoch 15, CIFAR-10 Batch 4:  Loss:    28.2718 Validation Accuracy: 0.579400\n",
      "Epoch 15, CIFAR-10 Batch 5:  Loss:    11.4982 Validation Accuracy: 0.575000\n",
      "Epoch 16, CIFAR-10 Batch 1:  Loss:    40.5915 Validation Accuracy: 0.582600\n",
      "Epoch 16, CIFAR-10 Batch 2:  Loss:     7.8810 Validation Accuracy: 0.565800\n",
      "Epoch 16, CIFAR-10 Batch 3:  Loss:    12.7638 Validation Accuracy: 0.569400\n",
      "Epoch 16, CIFAR-10 Batch 4:  Loss:    26.8672 Validation Accuracy: 0.569400\n",
      "Epoch 16, CIFAR-10 Batch 5:  Loss:    10.3153 Validation Accuracy: 0.569800\n",
      "Epoch 17, CIFAR-10 Batch 1:  Loss:    34.4519 Validation Accuracy: 0.578400\n",
      "Epoch 17, CIFAR-10 Batch 2:  Loss:     5.9919 Validation Accuracy: 0.566600\n",
      "Epoch 17, CIFAR-10 Batch 3:  Loss:     1.8729 Validation Accuracy: 0.579200\n",
      "Epoch 17, CIFAR-10 Batch 4:  Loss:    18.1877 Validation Accuracy: 0.582800\n",
      "Epoch 17, CIFAR-10 Batch 5:  Loss:    14.4990 Validation Accuracy: 0.579000\n",
      "Epoch 18, CIFAR-10 Batch 1:  Loss:    41.9410 Validation Accuracy: 0.579400\n",
      "Epoch 18, CIFAR-10 Batch 2:  Loss:     3.9253 Validation Accuracy: 0.564200\n",
      "Epoch 18, CIFAR-10 Batch 3:  Loss:     3.7774 Validation Accuracy: 0.587000\n",
      "Epoch 18, CIFAR-10 Batch 4:  Loss:    21.7523 Validation Accuracy: 0.578400\n",
      "Epoch 18, CIFAR-10 Batch 5:  Loss:    14.6219 Validation Accuracy: 0.582000\n",
      "Epoch 19, CIFAR-10 Batch 1:  Loss:    30.6580 Validation Accuracy: 0.582800\n",
      "Epoch 19, CIFAR-10 Batch 2:  Loss:     3.3400 Validation Accuracy: 0.578400\n",
      "Epoch 19, CIFAR-10 Batch 3:  Loss:     0.6599 Validation Accuracy: 0.583800\n",
      "Epoch 19, CIFAR-10 Batch 4:  Loss:    16.7353 Validation Accuracy: 0.582000\n",
      "Epoch 19, CIFAR-10 Batch 5:  Loss:     6.8363 Validation Accuracy: 0.586600\n",
      "Epoch 20, CIFAR-10 Batch 1:  Loss:    26.4113 Validation Accuracy: 0.589800\n",
      "Epoch 20, CIFAR-10 Batch 2:  Loss:     5.0314 Validation Accuracy: 0.578200\n",
      "Epoch 20, CIFAR-10 Batch 3:  Loss:     2.6471 Validation Accuracy: 0.590800\n",
      "Epoch 20, CIFAR-10 Batch 4:  Loss:    15.1048 Validation Accuracy: 0.589200\n",
      "Epoch 20, CIFAR-10 Batch 5:  Loss:     9.2293 Validation Accuracy: 0.586800\n"
     ]
    }
   ],
   "source": [
    "\"\"\"\n",
    "DON'T MODIFY ANYTHING IN THIS CELL\n",
    "\"\"\"\n",
    "save_model_path = './image_classification'\n",
    "\n",
    "print('Training...')\n",
    "with tf.Session() as sess:\n",
    "    # Initializing the variables\n",
    "    sess.run(tf.global_variables_initializer())\n",
    "    \n",
    "    # Training cycle\n",
    "    for epoch in range(epochs):\n",
    "        # Loop over all batches\n",
    "        n_batches = 5\n",
    "        for batch_i in range(1, n_batches + 1):\n",
    "            for batch_features, batch_labels in helper.load_preprocess_training_batch(batch_i, batch_size):\n",
    "                train_neural_network(sess, optimizer, keep_probability, batch_features, batch_labels)\n",
    "            print('Epoch {:>2}, CIFAR-10 Batch {}:  '.format(epoch + 1, batch_i), end='')\n",
    "            print_stats(sess, batch_features, batch_labels, cost, accuracy)\n",
    "            \n",
    "    # Save Model\n",
    "    saver = tf.train.Saver()\n",
    "    save_path = saver.save(sess, save_model_path)"
   ]
  },
  {
   "cell_type": "markdown",
   "metadata": {},
   "source": [
    "# Checkpoint\n",
    "The model has been saved to disk.\n",
    "## Test Model\n",
    "Test your model against the test dataset.  This will be your final accuracy. You should have an accuracy greater than 50%. If you don't, keep tweaking the model architecture and parameters."
   ]
  },
  {
   "cell_type": "code",
   "execution_count": 1,
   "metadata": {
    "collapsed": false
   },
   "outputs": [
    {
     "name": "stdout",
     "output_type": "stream",
     "text": [
      "Testing Accuracy: 0.5869824840764332\n",
      "\n"
     ]
    },
    {
     "data": {
      "image/png": "[encoded data removed]",
      "text/plain": [
       "<matplotlib.figure.Figure at 0x7fd0fb976828>"
      ]
     },
     "metadata": {
      "image/png": {
       "height": 319,
       "width": 349
      }
     },
     "output_type": "display_data"
    }
   ],
   "source": [
    "\"\"\"\n",
    "DON'T MODIFY ANYTHING IN THIS CELL\n",
    "\"\"\"\n",
    "%matplotlib inline\n",
    "%config InlineBackend.figure_format = 'retina'\n",
    "\n",
    "import tensorflow as tf\n",
    "import pickle\n",
    "import helper\n",
    "import random\n",
    "\n",
    "# Set batch size if not already set\n",
    "try:\n",
    "    if batch_size:\n",
    "        pass\n",
    "except NameError:\n",
    "    batch_size = 64\n",
    "\n",
    "save_model_path = './image_classification'\n",
    "n_samples = 4\n",
    "top_n_predictions = 3\n",
    "\n",
    "def test_model():\n",
    "    \"\"\"\n",
    "    Test the saved model against the test dataset\n",
    "    \"\"\"\n",
    "\n",
    "    test_features, test_labels = pickle.load(open('preprocess_training.p', mode='rb'))\n",
    "    loaded_graph = tf.Graph()\n",
    "\n",
    "    with tf.Session(graph=loaded_graph) as sess:\n",
    "        # Load model\n",
    "        loader = tf.train.import_meta_graph(save_model_path + '.meta')\n",
    "        loader.restore(sess, save_model_path)\n",
    "\n",
    "        # Get Tensors from loaded model\n",
    "        loaded_x = loaded_graph.get_tensor_by_name('x:0')\n",
    "        loaded_y = loaded_graph.get_tensor_by_name('y:0')\n",
    "        loaded_keep_prob = loaded_graph.get_tensor_by_name('keep_prob:0')\n",
    "        loaded_logits = loaded_graph.get_tensor_by_name('logits:0')\n",
    "        loaded_acc = loaded_graph.get_tensor_by_name('accuracy:0')\n",
    "        \n",
    "        # Get accuracy in batches for memory limitations\n",
    "        test_batch_acc_total = 0\n",
    "        test_batch_count = 0\n",
    "        \n",
    "        for train_feature_batch, train_label_batch in helper.batch_features_labels(test_features, test_labels, batch_size):\n",
    "            test_batch_acc_total += sess.run(\n",
    "                loaded_acc,\n",
    "                feed_dict={loaded_x: train_feature_batch, loaded_y: train_label_batch, loaded_keep_prob: 1.0})\n",
    "            test_batch_count += 1\n",
    "\n",
    "        print('Testing Accuracy: {}\\n'.format(test_batch_acc_total/test_batch_count))\n",
    "\n",
    "        # Print Random Samples\n",
    "        random_test_features, random_test_labels = tuple(zip(*random.sample(list(zip(test_features, test_labels)), n_samples)))\n",
    "        random_test_predictions = sess.run(\n",
    "            tf.nn.top_k(tf.nn.softmax(loaded_logits), top_n_predictions),\n",
    "            feed_dict={loaded_x: random_test_features, loaded_y: random_test_labels, loaded_keep_prob: 1.0})\n",
    "        helper.display_image_predictions(random_test_features, random_test_labels, random_test_predictions)\n",
    "\n",
    "\n",
    "test_model()"
   ]
  },
  {
   "cell_type": "markdown",
   "metadata": {},
   "source": [
    "## Why 50-80% Accuracy?\n",
    "You might be wondering why you can't get an accuracy any higher. First things first, 50% isn't bad for a simple CNN.  Pure guessing would get you 10% accuracy. However, you might notice people are getting scores [well above 80%](http://rodrigob.github.io/are_we_there_yet/build/classification_datasets_results.html#43494641522d3130).  That's because we haven't taught you all there is to know about neural networks. We still need to cover a few more techniques.\n",
    "## Submitting This Project\n",
    "When submitting this project, make sure to run all the cells before saving the notebook.  Save the notebook file as \"dlnd_image_classification.ipynb\" and save it as a HTML file under \"File\" -> \"Download as\".  Include the \"helper.py\" and \"problem_unittests.py\" files in your submission."
   ]
  }
 ],
 "metadata": {
  "kernelspec": {
   "display_name": "Python 3",
   "language": "python",
   "name": "python3"
  },
  "language_info": {
   "codemirror_mode": {
    "name": "ipython",
    "version": 3
   },
   "file_extension": ".py",
   "mimetype": "text/x-python",
   "name": "python",
   "nbconvert_exporter": "python",
   "pygments_lexer": "ipython3",
   "version": "3.6.0"
  }
 },
 "nbformat": 4,
 "nbformat_minor": 0
}
